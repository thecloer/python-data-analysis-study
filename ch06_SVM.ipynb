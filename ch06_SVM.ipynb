{
  "nbformat": 4,
  "nbformat_minor": 0,
  "metadata": {
    "colab": {
      "provenance": [],
      "toc_visible": true
    },
    "kernelspec": {
      "name": "python3",
      "display_name": "Python 3"
    },
    "language_info": {
      "name": "python"
    }
  },
  "cells": [
    {
      "cell_type": "markdown",
      "source": [
        "# Ch06. 서포트 벡터 머신(SVM)\n",
        "\n",
        "2016930025  \n",
        "공간정보공학과  \n",
        "최석규"
      ],
      "metadata": {
        "id": "EADIrG3nXXfF"
      }
    },
    {
      "cell_type": "markdown",
      "source": [
        "## 개요\n",
        "`서포트 벡터 머신(SVM:Support Vector Machine)`은 KNN과 같이 지도학습으로 분류 및 회귀분석에 유용하다. 이중 분류와 다중 분류, 선형 회귀와 비선형 회귀문제에도 응용된다.  \n",
        "분류문제에서는 `결정 경계(Decision Boundary)` 즉, 분류를 위한 구분 기준을 정의한다. \n",
        "클래스를 구분하는 무한한 `초평면(hyperplane)`들 사이에서 마진이 최대인 초평면을 최적의 결정 경계로 판단한다. 이때 최대 마진을 결정 짓는 각 클래스의 경계에 있는 점들 즉, 결정경계에 가장 가까운 점들을 `서포트 벡터(Support Vector)`라고 한다. \n",
        "\n",
        "\n",
        "\n",
        "`초평면(hperplane)`은 주어진 공간의 차원보다 한차원 낮은 공간이다."
      ],
      "metadata": {
        "id": "FMZ8xQs3XqAz"
      }
    },
    {
      "cell_type": "markdown",
      "source": [
        "## SVM의 기본 원리"
      ],
      "metadata": {
        "id": "k5DlpCxlQPMk"
      }
    },
    {
      "cell_type": "markdown",
      "source": [
        "### 선형 분리가 가능한 이진 분류 예시\n",
        "\n",
        "초평면은 클래스들을 분류하는 경계로 결정 경계(decision boundary)라고도 한다.  \n",
        "2차원 데이터에서는 *w<sub>1</sub>x<sub>1</sub> + w<sub>2</sub>x<sub>2</sub> + b = 0*의 형태로 두 벡터로 결정되는 선으로 표현된다.  \n",
        "위 식을 행렬식 *W<sup>T</sup>X + b = 0*으로 나타낼 수 있다.\n",
        "\n",
        "위 hyperplane을 기준으로 데이터를 두개의 클래스로 구분할 수 있다.\n",
        "- *W<sup>T</sup>X + b < 0*\n",
        "- *W<sup>T</sup>X + b > 0*\n",
        "\n",
        "*Y = W<sup>T</sup>X + b*에서 Y값의 부호에 따라 클래스가 나뉜다. 두 클래스의 서포트 벡터가 Y = 1, Y = -1 plane에 있다고 가정하면 아래와 같은 식이 성립한다.\n",
        "- *W<sup>T</sup>X + b = -1*\n",
        "- *W<sup>T</sup>X + b = 1*   \n",
        "\n",
        "plus-plane을 x<sup>+</sup>, minus-plane을 x<sup>-</sup>라 한다면 둘은 W벡터 방향 평행 이동으로 설명 된다. 이때 팽행이동량(계수) k는 마진이다.\n",
        "\n",
        "*x<sup>+</sup> = x<sup>-</sup> + kw*\n",
        "\n",
        "아래 세 식을 연립하면 다음과 같은 결론을 얻을 수 있다.\n",
        "- *W<sup>T</sup>X<sup>-</sup> + b = -1*\n",
        "- *W<sup>T</sup>X<sup>+</sup> + b = 1*   \n",
        "- *X<sup>+</sup> = X<sup>-</sup> + kW*\n",
        "\n",
        "> *Margin = 2 / (W<sup>T</sup>W) = 2 / ||W||<sub>2</sub>*\n",
        "\n",
        "SVM에서는 마진을 최대로 하는 hyperplane을 찾기 때문에 ||W||<sub>2</sub>의 최솟 값을 찾는 문제와 같고 이는 계산의 편의를 위해 ||W||<sub>2</sub><sup>2</sup>의 최솟값을 찾는 문제와 같다.\n",
        "\n",
        "따라서 문제는 다음과 같다.  \n",
        "> min ||W||<sub>2</sub><sup>2</sup>  \n",
        "> subject to y<sub>i</sub>(W<sup>T</sup>X<sub>i</sub> + b) &ge; 1\n",
        "\n",
        "위 문제를 라그랑주 승수법으로 구한 안장점과 KKT(Karush-Kuhn-Tucker) 조건을 이용하면 W와 b를 구해 초평면을 알 수있다."
      ],
      "metadata": {
        "id": "ROrvBRfrcyMi"
      }
    },
    {
      "cell_type": "markdown",
      "source": [
        "## 기본 예제"
      ],
      "metadata": {
        "id": "nQ9Fd7nUtGf8"
      }
    },
    {
      "cell_type": "markdown",
      "source": [
        "### 패키지 설정 및 원데이터 분석"
      ],
      "metadata": {
        "id": "763KeD5KbE6l"
      }
    },
    {
      "cell_type": "markdown",
      "source": [
        "#### 패키지\n",
        "\n",
        "- [sklearn](https://scikit-learn.org/stable/): 머신러닝 패키지\n",
        "- [numpy](https://numpy.org/): 행렬연산을 위해\n",
        "- [matplotlib](https://matplotlib.org/): 데이터 시각화"
      ],
      "metadata": {
        "id": "I1AHArZu5eNb"
      }
    },
    {
      "cell_type": "code",
      "execution_count": null,
      "metadata": {
        "id": "o8SS5hw6XHBd"
      },
      "outputs": [],
      "source": [
        "from sklearn import svm\n",
        "import numpy as np\n",
        "import matplotlib.pyplot as plt"
      ]
    },
    {
      "cell_type": "code",
      "source": [
        "# 학습용 데이터(기존 개체)\n",
        "# 입력\n",
        "X_train = np.array([\n",
        "    [2,3],\n",
        "    [1,2]\n",
        "])\n",
        "# 레이블\n",
        "Y_train = np.array([1,-1])"
      ],
      "metadata": {
        "id": "-pSkiqV1XfDM"
      },
      "execution_count": null,
      "outputs": []
    },
    {
      "cell_type": "code",
      "source": [
        "# 테스트 데이터\n",
        "# 입력\n",
        "X_test = np.array([[3,3]])"
      ],
      "metadata": {
        "id": "FIZDDsooYT2Z"
      },
      "execution_count": null,
      "outputs": []
    },
    {
      "cell_type": "code",
      "source": [
        "# 산포도\n",
        "# 학습용 데이터\n",
        "plt.scatter(X_train[:,0],X_train[:,1],c=Y_train)\n",
        "# 테스트용 데이터\n",
        "plt.scatter(X_test[:,0],X_test[:,1],c='red',marker='D',s=100)\n",
        "\n",
        "plt.xlabel('x1')\n",
        "plt.xlabel('x2')\n",
        "plt.xlim(0,5)\n",
        "plt.ylim(0,5)\n",
        "plt.show()"
      ],
      "metadata": {
        "colab": {
          "base_uri": "https://localhost:8080/",
          "height": 455
        },
        "id": "AH0XK8OaYnSQ",
        "outputId": "ebfb2a6d-4863-4f59-8bcd-2f20edd86aa3"
      },
      "execution_count": null,
      "outputs": [
        {
          "output_type": "display_data",
          "data": {
            "text/plain": [
              "<Figure size 640x480 with 1 Axes>"
            ],
            "image/png": "[encoded data removed]"
          },
          "metadata": {}
        }
      ]
    },
    {
      "cell_type": "markdown",
      "source": [
        "### 모형화 및 예측"
      ],
      "metadata": {
        "id": "ozky8OvnZ5k-"
      }
    },
    {
      "cell_type": "code",
      "source": [
        "# SVM 분류 모형화\n",
        "clf = svm.SVC(kernel='linear') # 선형분류"
      ],
      "metadata": {
        "id": "EKNH4hmjY5O3"
      },
      "execution_count": null,
      "outputs": []
    },
    {
      "cell_type": "code",
      "source": [
        "# 모형 학습\n",
        "clf.fit(X_train,Y_train)"
      ],
      "metadata": {
        "colab": {
          "base_uri": "https://localhost:8080/",
          "height": 75
        },
        "id": "vrc71BdeZP_C",
        "outputId": "f2420642-abd9-4f77-ab51-33fd25cc406f"
      },
      "execution_count": null,
      "outputs": [
        {
          "output_type": "execute_result",
          "data": {
            "text/plain": [
              "SVC(kernel='linear')"
            ],
            "text/html": [
              "<style>#sk-container-id-1 {color: black;background-color: white;}#sk-container-id-1 pre{padding: 0;}#sk-container-id-1 div.sk-toggleable {background-color: white;}#sk-container-id-1 label.sk-toggleable__label {cursor: pointer;display: block;width: 100%;margin-bottom: 0;padding: 0.3em;box-sizing: border-box;text-align: center;}#sk-container-id-1 label.sk-toggleable__label-arrow:before {content: \"▸\";float: left;margin-right: 0.25em;color: #696969;}#sk-container-id-1 label.sk-toggleable__label-arrow:hover:before {color: black;}#sk-container-id-1 div.sk-estimator:hover label.sk-toggleable__label-arrow:before {color: black;}#sk-container-id-1 div.sk-toggleable__content {max-height: 0;max-width: 0;overflow: hidden;text-align: left;background-color: #f0f8ff;}#sk-container-id-1 div.sk-toggleable__content pre {margin: 0.2em;color: black;border-radius: 0.25em;background-color: #f0f8ff;}#sk-container-id-1 input.sk-toggleable__control:checked~div.sk-toggleable__content {max-height: 200px;max-width: 100%;overflow: auto;}#sk-container-id-1 input.sk-toggleable__control:checked~label.sk-toggleable__label-arrow:before {content: \"▾\";}#sk-container-id-1 div.sk-estimator input.sk-toggleable__control:checked~label.sk-toggleable__label {background-color: #d4ebff;}#sk-container-id-1 div.sk-label input.sk-toggleable__control:checked~label.sk-toggleable__label {background-color: #d4ebff;}#sk-container-id-1 input.sk-hidden--visually {border: 0;clip: rect(1px 1px 1px 1px);clip: rect(1px, 1px, 1px, 1px);height: 1px;margin: -1px;overflow: hidden;padding: 0;position: absolute;width: 1px;}#sk-container-id-1 div.sk-estimator {font-family: monospace;background-color: #f0f8ff;border: 1px dotted black;border-radius: 0.25em;box-sizing: border-box;margin-bottom: 0.5em;}#sk-container-id-1 div.sk-estimator:hover {background-color: #d4ebff;}#sk-container-id-1 div.sk-parallel-item::after {content: \"\";width: 100%;border-bottom: 1px solid gray;flex-grow: 1;}#sk-container-id-1 div.sk-label:hover label.sk-toggleable__label {background-color: #d4ebff;}#sk-container-id-1 div.sk-serial::before {content: \"\";position: absolute;border-left: 1px solid gray;box-sizing: border-box;top: 0;bottom: 0;left: 50%;z-index: 0;}#sk-container-id-1 div.sk-serial {display: flex;flex-direction: column;align-items: center;background-color: white;padding-right: 0.2em;padding-left: 0.2em;position: relative;}#sk-container-id-1 div.sk-item {position: relative;z-index: 1;}#sk-container-id-1 div.sk-parallel {display: flex;align-items: stretch;justify-content: center;background-color: white;position: relative;}#sk-container-id-1 div.sk-item::before, #sk-container-id-1 div.sk-parallel-item::before {content: \"\";position: absolute;border-left: 1px solid gray;box-sizing: border-box;top: 0;bottom: 0;left: 50%;z-index: -1;}#sk-container-id-1 div.sk-parallel-item {display: flex;flex-direction: column;z-index: 1;position: relative;background-color: white;}#sk-container-id-1 div.sk-parallel-item:first-child::after {align-self: flex-end;width: 50%;}#sk-container-id-1 div.sk-parallel-item:last-child::after {align-self: flex-start;width: 50%;}#sk-container-id-1 div.sk-parallel-item:only-child::after {width: 0;}#sk-container-id-1 div.sk-dashed-wrapped {border: 1px dashed gray;margin: 0 0.4em 0.5em 0.4em;box-sizing: border-box;padding-bottom: 0.4em;background-color: white;}#sk-container-id-1 div.sk-label label {font-family: monospace;font-weight: bold;display: inline-block;line-height: 1.2em;}#sk-container-id-1 div.sk-label-container {text-align: center;}#sk-container-id-1 div.sk-container {/* jupyter's `normalize.less` sets `[hidden] { display: none; }` but bootstrap.min.css set `[hidden] { display: none !important; }` so we also need the `!important` here to be able to override the default hidden behavior on the sphinx rendered scikit-learn.org. See: https://github.com/scikit-learn/scikit-learn/issues/21755 */display: inline-block !important;position: relative;}#sk-container-id-1 div.sk-text-repr-fallback {display: none;}</style><div id=\"sk-container-id-1\" class=\"sk-top-container\"><div class=\"sk-text-repr-fallback\"><pre>SVC(kernel=&#x27;linear&#x27;)</pre><b>In a Jupyter environment, please rerun this cell to show the HTML representation or trust the notebook. <br />On GitHub, the HTML representation is unable to render, please try loading this page with nbviewer.org.</b></div><div class=\"sk-container\" hidden><div class=\"sk-item\"><div class=\"sk-estimator sk-toggleable\"><input class=\"sk-toggleable__control sk-hidden--visually\" id=\"sk-estimator-id-1\" type=\"checkbox\" checked><label for=\"sk-estimator-id-1\" class=\"sk-toggleable__label sk-toggleable__label-arrow\">SVC</label><div class=\"sk-toggleable__content\"><pre>SVC(kernel=&#x27;linear&#x27;)</pre></div></div></div></div></div>"
            ]
          },
          "metadata": {},
          "execution_count": 11
        }
      ]
    },
    {
      "cell_type": "code",
      "source": [
        "# 서포트 벡터 확인\n",
        "print(clf.support_vectors_)"
      ],
      "metadata": {
        "colab": {
          "base_uri": "https://localhost:8080/"
        },
        "id": "FS-cPEo8aPQR",
        "outputId": "3dd1d509-28c7-42f6-90bb-0a74c6632bfc"
      },
      "execution_count": null,
      "outputs": [
        {
          "output_type": "stream",
          "name": "stdout",
          "text": [
            "[[1. 2.]\n",
            " [2. 3.]]\n"
          ]
        }
      ]
    },
    {
      "cell_type": "code",
      "source": [
        "# 서포트 벡터의 index\n",
        "print(clf.support_)"
      ],
      "metadata": {
        "colab": {
          "base_uri": "https://localhost:8080/"
        },
        "id": "Q87LzGdLt5Xf",
        "outputId": "349d9d47-44ab-44cf-9201-405c3425a37d"
      },
      "execution_count": null,
      "outputs": [
        {
          "output_type": "stream",
          "name": "stdout",
          "text": [
            "[1 0]\n"
          ]
        }
      ]
    },
    {
      "cell_type": "code",
      "source": [
        "# 각 개체들의 분류\n",
        "print(clf.classes_)"
      ],
      "metadata": {
        "colab": {
          "base_uri": "https://localhost:8080/"
        },
        "id": "cp0DxXret9rj",
        "outputId": "f8757ade-6a5c-4529-9c26-df3f188e86c0"
      },
      "execution_count": null,
      "outputs": [
        {
          "output_type": "stream",
          "name": "stdout",
          "text": [
            "[-1  1]\n"
          ]
        }
      ]
    },
    {
      "cell_type": "code",
      "source": [
        "# W: 가중치\n",
        "print(clf.coef_)"
      ],
      "metadata": {
        "colab": {
          "base_uri": "https://localhost:8080/"
        },
        "id": "-AnDkF9PuGWX",
        "outputId": "e6b21fc8-52aa-4738-bfb0-632836103dc3"
      },
      "execution_count": null,
      "outputs": [
        {
          "output_type": "stream",
          "name": "stdout",
          "text": [
            "[[1. 1.]]\n"
          ]
        }
      ]
    },
    {
      "cell_type": "code",
      "source": [
        "# b: 편향\n",
        "print(clf.intercept_)"
      ],
      "metadata": {
        "colab": {
          "base_uri": "https://localhost:8080/"
        },
        "id": "in4em10FuR5c",
        "outputId": "452f26e8-6f79-4d82-8f51-587ed0faf33e"
      },
      "execution_count": null,
      "outputs": [
        {
          "output_type": "stream",
          "name": "stdout",
          "text": [
            "[-4.]\n"
          ]
        }
      ]
    },
    {
      "cell_type": "code",
      "source": [
        "# 예측\n",
        "Y_pred = clf.predict(X_test)\n",
        "print(Y_pred)"
      ],
      "metadata": {
        "colab": {
          "base_uri": "https://localhost:8080/"
        },
        "id": "qmd_8zzxuWyM",
        "outputId": "d9775712-0a44-4200-8701-61d500cfb893"
      },
      "execution_count": null,
      "outputs": [
        {
          "output_type": "stream",
          "name": "stdout",
          "text": [
            "[1]\n"
          ]
        }
      ]
    },
    {
      "cell_type": "markdown",
      "source": [
        "## 응용 예제\n",
        "\n",
        "KNN에서 사용했던 유방암 진단을 SVM으로 평가해보자"
      ],
      "metadata": {
        "id": "2hR1kz_6usDO"
      }
    },
    {
      "cell_type": "markdown",
      "source": [
        "### 패키지 설정\n",
        "\n",
        "`sklearn.datasets.load_breast_cancer`: 유방암 데이터셋 로더  \n",
        "`svm`: SVM 분류 모듈  \n",
        "`StandardScaler`: 표준화 모듈   \n",
        "`train_test_split`: 학습용/테스트용 데이터 분리 함수   \n",
        "`confusion_matrix`: 혼돈행렬 계산 함수   "
      ],
      "metadata": {
        "id": "oQ8GnuUsvYCB"
      }
    },
    {
      "cell_type": "code",
      "source": [
        "from sklearn.datasets import load_breast_cancer\n",
        "from sklearn import svm\n",
        "from sklearn.preprocessing import StandardScaler\n",
        "from sklearn.model_selection import train_test_split\n",
        "from sklearn.metrics import confusion_matrix"
      ],
      "metadata": {
        "id": "ds_SUczbudl4"
      },
      "execution_count": null,
      "outputs": []
    },
    {
      "cell_type": "code",
      "source": [
        "# 데이터 로딩\n",
        "data = load_breast_cancer(as_frame=True)"
      ],
      "metadata": {
        "id": "fS1zo_kzv0U8"
      },
      "execution_count": null,
      "outputs": []
    },
    {
      "cell_type": "code",
      "source": [
        "# 데이터 프레임 출력\n",
        "print(data.frame)"
      ],
      "metadata": {
        "colab": {
          "base_uri": "https://localhost:8080/"
        },
        "id": "4hmu-7q6v64O",
        "outputId": "2bafe3cf-f3cf-47f2-f1d2-0c4f6492d5bc"
      },
      "execution_count": null,
      "outputs": [
        {
          "output_type": "stream",
          "name": "stdout",
          "text": [
            "     mean radius  mean texture  mean perimeter  mean area  mean smoothness  \\\n",
            "0          17.99         10.38          122.80     1001.0          0.11840   \n",
            "1          20.57         17.77          132.90     1326.0          0.08474   \n",
            "2          19.69         21.25          130.00     1203.0          0.10960   \n",
            "3          11.42         20.38           77.58      386.1          0.14250   \n",
            "4          20.29         14.34          135.10     1297.0          0.10030   \n",
            "..           ...           ...             ...        ...              ...   \n",
            "564        21.56         22.39          142.00     1479.0          0.11100   \n",
            "565        20.13         28.25          131.20     1261.0          0.09780   \n",
            "566        16.60         28.08          108.30      858.1          0.08455   \n",
            "567        20.60         29.33          140.10     1265.0          0.11780   \n",
            "568         7.76         24.54           47.92      181.0          0.05263   \n",
            "\n",
            "     mean compactness  mean concavity  mean concave points  mean symmetry  \\\n",
            "0             0.27760         0.30010              0.14710         0.2419   \n",
            "1             0.07864         0.08690              0.07017         0.1812   \n",
            "2             0.15990         0.19740              0.12790         0.2069   \n",
            "3             0.28390         0.24140              0.10520         0.2597   \n",
            "4             0.13280         0.19800              0.10430         0.1809   \n",
            "..                ...             ...                  ...            ...   \n",
            "564           0.11590         0.24390              0.13890         0.1726   \n",
            "565           0.10340         0.14400              0.09791         0.1752   \n",
            "566           0.10230         0.09251              0.05302         0.1590   \n",
            "567           0.27700         0.35140              0.15200         0.2397   \n",
            "568           0.04362         0.00000              0.00000         0.1587   \n",
            "\n",
            "     mean fractal dimension  ...  worst texture  worst perimeter  worst area  \\\n",
            "0                   0.07871  ...          17.33           184.60      2019.0   \n",
            "1                   0.05667  ...          23.41           158.80      1956.0   \n",
            "2                   0.05999  ...          25.53           152.50      1709.0   \n",
            "3                   0.09744  ...          26.50            98.87       567.7   \n",
            "4                   0.05883  ...          16.67           152.20      1575.0   \n",
            "..                      ...  ...            ...              ...         ...   \n",
            "564                 0.05623  ...          26.40           166.10      2027.0   \n",
            "565                 0.05533  ...          38.25           155.00      1731.0   \n",
            "566                 0.05648  ...          34.12           126.70      1124.0   \n",
            "567                 0.07016  ...          39.42           184.60      1821.0   \n",
            "568                 0.05884  ...          30.37            59.16       268.6   \n",
            "\n",
            "     worst smoothness  worst compactness  worst concavity  \\\n",
            "0             0.16220            0.66560           0.7119   \n",
            "1             0.12380            0.18660           0.2416   \n",
            "2             0.14440            0.42450           0.4504   \n",
            "3             0.20980            0.86630           0.6869   \n",
            "4             0.13740            0.20500           0.4000   \n",
            "..                ...                ...              ...   \n",
            "564           0.14100            0.21130           0.4107   \n",
            "565           0.11660            0.19220           0.3215   \n",
            "566           0.11390            0.30940           0.3403   \n",
            "567           0.16500            0.86810           0.9387   \n",
            "568           0.08996            0.06444           0.0000   \n",
            "\n",
            "     worst concave points  worst symmetry  worst fractal dimension  target  \n",
            "0                  0.2654          0.4601                  0.11890       0  \n",
            "1                  0.1860          0.2750                  0.08902       0  \n",
            "2                  0.2430          0.3613                  0.08758       0  \n",
            "3                  0.2575          0.6638                  0.17300       0  \n",
            "4                  0.1625          0.2364                  0.07678       0  \n",
            "..                    ...             ...                      ...     ...  \n",
            "564                0.2216          0.2060                  0.07115       0  \n",
            "565                0.1628          0.2572                  0.06637       0  \n",
            "566                0.1418          0.2218                  0.07820       0  \n",
            "567                0.2650          0.4087                  0.12400       0  \n",
            "568                0.0000          0.2871                  0.07039       1  \n",
            "\n",
            "[569 rows x 31 columns]\n"
          ]
        }
      ]
    },
    {
      "cell_type": "code",
      "source": [
        "# 입력 부분과 목표값 출력\n",
        "print(data.data)\n",
        "print(data.target)"
      ],
      "metadata": {
        "colab": {
          "base_uri": "https://localhost:8080/"
        },
        "id": "LmBv6-Tqv-Jv",
        "outputId": "fc10d8b9-f875-454f-e09e-c0f962a19d0b"
      },
      "execution_count": null,
      "outputs": [
        {
          "output_type": "stream",
          "name": "stdout",
          "text": [
            "     mean radius  mean texture  mean perimeter  mean area  mean smoothness  \\\n",
            "0          17.99         10.38          122.80     1001.0          0.11840   \n",
            "1          20.57         17.77          132.90     1326.0          0.08474   \n",
            "2          19.69         21.25          130.00     1203.0          0.10960   \n",
            "3          11.42         20.38           77.58      386.1          0.14250   \n",
            "4          20.29         14.34          135.10     1297.0          0.10030   \n",
            "..           ...           ...             ...        ...              ...   \n",
            "564        21.56         22.39          142.00     1479.0          0.11100   \n",
            "565        20.13         28.25          131.20     1261.0          0.09780   \n",
            "566        16.60         28.08          108.30      858.1          0.08455   \n",
            "567        20.60         29.33          140.10     1265.0          0.11780   \n",
            "568         7.76         24.54           47.92      181.0          0.05263   \n",
            "\n",
            "     mean compactness  mean concavity  mean concave points  mean symmetry  \\\n",
            "0             0.27760         0.30010              0.14710         0.2419   \n",
            "1             0.07864         0.08690              0.07017         0.1812   \n",
            "2             0.15990         0.19740              0.12790         0.2069   \n",
            "3             0.28390         0.24140              0.10520         0.2597   \n",
            "4             0.13280         0.19800              0.10430         0.1809   \n",
            "..                ...             ...                  ...            ...   \n",
            "564           0.11590         0.24390              0.13890         0.1726   \n",
            "565           0.10340         0.14400              0.09791         0.1752   \n",
            "566           0.10230         0.09251              0.05302         0.1590   \n",
            "567           0.27700         0.35140              0.15200         0.2397   \n",
            "568           0.04362         0.00000              0.00000         0.1587   \n",
            "\n",
            "     mean fractal dimension  ...  worst radius  worst texture  \\\n",
            "0                   0.07871  ...        25.380          17.33   \n",
            "1                   0.05667  ...        24.990          23.41   \n",
            "2                   0.05999  ...        23.570          25.53   \n",
            "3                   0.09744  ...        14.910          26.50   \n",
            "4                   0.05883  ...        22.540          16.67   \n",
            "..                      ...  ...           ...            ...   \n",
            "564                 0.05623  ...        25.450          26.40   \n",
            "565                 0.05533  ...        23.690          38.25   \n",
            "566                 0.05648  ...        18.980          34.12   \n",
            "567                 0.07016  ...        25.740          39.42   \n",
            "568                 0.05884  ...         9.456          30.37   \n",
            "\n",
            "     worst perimeter  worst area  worst smoothness  worst compactness  \\\n",
            "0             184.60      2019.0           0.16220            0.66560   \n",
            "1             158.80      1956.0           0.12380            0.18660   \n",
            "2             152.50      1709.0           0.14440            0.42450   \n",
            "3              98.87       567.7           0.20980            0.86630   \n",
            "4             152.20      1575.0           0.13740            0.20500   \n",
            "..               ...         ...               ...                ...   \n",
            "564           166.10      2027.0           0.14100            0.21130   \n",
            "565           155.00      1731.0           0.11660            0.19220   \n",
            "566           126.70      1124.0           0.11390            0.30940   \n",
            "567           184.60      1821.0           0.16500            0.86810   \n",
            "568            59.16       268.6           0.08996            0.06444   \n",
            "\n",
            "     worst concavity  worst concave points  worst symmetry  \\\n",
            "0             0.7119                0.2654          0.4601   \n",
            "1             0.2416                0.1860          0.2750   \n",
            "2             0.4504                0.2430          0.3613   \n",
            "3             0.6869                0.2575          0.6638   \n",
            "4             0.4000                0.1625          0.2364   \n",
            "..               ...                   ...             ...   \n",
            "564           0.4107                0.2216          0.2060   \n",
            "565           0.3215                0.1628          0.2572   \n",
            "566           0.3403                0.1418          0.2218   \n",
            "567           0.9387                0.2650          0.4087   \n",
            "568           0.0000                0.0000          0.2871   \n",
            "\n",
            "     worst fractal dimension  \n",
            "0                    0.11890  \n",
            "1                    0.08902  \n",
            "2                    0.08758  \n",
            "3                    0.17300  \n",
            "4                    0.07678  \n",
            "..                       ...  \n",
            "564                  0.07115  \n",
            "565                  0.06637  \n",
            "566                  0.07820  \n",
            "567                  0.12400  \n",
            "568                  0.07039  \n",
            "\n",
            "[569 rows x 30 columns]\n",
            "0      0\n",
            "1      0\n",
            "2      0\n",
            "3      0\n",
            "4      0\n",
            "      ..\n",
            "564    0\n",
            "565    0\n",
            "566    0\n",
            "567    0\n",
            "568    1\n",
            "Name: target, Length: 569, dtype: int64\n"
          ]
        }
      ]
    },
    {
      "cell_type": "markdown",
      "source": [
        "### 데이터 분리"
      ],
      "metadata": {
        "id": "LN_fflx4wLpL"
      }
    },
    {
      "cell_type": "code",
      "source": [
        "# 학습용과 테스트용 데이터 분리\n",
        "X_train, X_test, Y_train, Y_test = train_test_split(data.data, data.target, test_size=0.3, random_state=1234)\n",
        "\n",
        "print(X_train.shape)\n",
        "print(X_test.shape)\n",
        "print(Y_train.shape)\n",
        "print(Y_test.shape)"
      ],
      "metadata": {
        "colab": {
          "base_uri": "https://localhost:8080/"
        },
        "id": "0STxjLXEwBze",
        "outputId": "6c576a84-7cfc-45b2-c40b-177900e7ae99"
      },
      "execution_count": null,
      "outputs": [
        {
          "output_type": "stream",
          "name": "stdout",
          "text": [
            "(398, 30)\n",
            "(171, 30)\n",
            "(398,)\n",
            "(171,)\n"
          ]
        }
      ]
    },
    {
      "cell_type": "markdown",
      "source": [
        "### 피처 스케일링"
      ],
      "metadata": {
        "id": "zGh9AGUWwnRD"
      }
    },
    {
      "cell_type": "code",
      "source": [
        "# 피처 스케일링: 학습 데이터\n",
        "scalerX = StandardScaler()\n",
        "scalerX.fit(X_train)\n",
        "X_train_std = scalerX.transform(X_train)\n",
        "print(X_train_std)"
      ],
      "metadata": {
        "colab": {
          "base_uri": "https://localhost:8080/"
        },
        "id": "CYylIyyZwc5z",
        "outputId": "4e9ed6cb-a2cc-44f5-fe0b-5d0652ad8bc3"
      },
      "execution_count": null,
      "outputs": [
        {
          "output_type": "stream",
          "name": "stdout",
          "text": [
            "[[-1.53753797 -0.55554819 -1.51985982 ... -1.73344373 -0.77142494\n",
            "   0.22129607]\n",
            " [-0.79609663 -0.38603656 -0.81356785 ... -0.43011095  0.08970515\n",
            "  -0.36303452]\n",
            " [ 0.21752653 -0.38603656  0.18557689 ...  0.76443594  0.80894448\n",
            "  -0.67502531]\n",
            " ...\n",
            " [-0.48269225 -0.14686262 -0.46083202 ... -0.21253919  0.1565732\n",
            "   0.16129784]\n",
            " [ 1.14079887 -0.12364185  1.14739725 ...  0.25197353  0.1679897\n",
            "  -0.23677737]\n",
            " [-0.41210568 -1.26610378 -0.43253113 ... -0.78299078 -0.89537548\n",
            "  -0.79241315]]\n"
          ]
        }
      ]
    },
    {
      "cell_type": "code",
      "source": [
        "# 피처 스케일링: 테스트 데이터\n",
        "X_test_std = scalerX.transform(X_test)\n",
        "print(X_test.std)"
      ],
      "metadata": {
        "colab": {
          "base_uri": "https://localhost:8080/"
        },
        "id": "rgo3ByS7wtyh",
        "outputId": "984ec982-309b-438c-dfeb-3371fd8101d8"
      },
      "execution_count": null,
      "outputs": [
        {
          "output_type": "stream",
          "name": "stdout",
          "text": [
            "<bound method NDFrame._add_numeric_operations.<locals>.std of      mean radius  mean texture  mean perimeter  mean area  mean smoothness  \\\n",
            "531       11.670         20.02           75.21      416.2          0.10160   \n",
            "166       10.800          9.71           68.77      357.6          0.09594   \n",
            "485       12.450         16.41           82.85      476.7          0.09514   \n",
            "66         9.465         21.01           60.11      269.4          0.10440   \n",
            "220       13.650         13.16           87.88      568.9          0.09646   \n",
            "..           ...           ...             ...        ...              ...   \n",
            "305       11.600         24.49           74.23      417.2          0.07474   \n",
            "560       14.050         27.15           91.38      600.4          0.09929   \n",
            "285       12.580         18.40           79.83      489.0          0.08393   \n",
            "355       12.560         19.07           81.92      485.8          0.08760   \n",
            "329       16.260         21.88          107.50      826.8          0.11650   \n",
            "\n",
            "     mean compactness  mean concavity  mean concave points  mean symmetry  \\\n",
            "531           0.09453         0.04200             0.021570         0.1859   \n",
            "166           0.05736         0.02531             0.016980         0.1381   \n",
            "485           0.15110         0.15440             0.048460         0.2082   \n",
            "66            0.07773         0.02172             0.015040         0.1717   \n",
            "220           0.08711         0.03888             0.025630         0.1360   \n",
            "..                ...             ...                  ...            ...   \n",
            "305           0.05688         0.01974             0.013130         0.1935   \n",
            "560           0.11260         0.04462             0.043040         0.1537   \n",
            "285           0.04216         0.00186             0.002924         0.1697   \n",
            "355           0.10380         0.10300             0.043910         0.1533   \n",
            "329           0.12830         0.17990             0.079810         0.1869   \n",
            "\n",
            "     mean fractal dimension  ...  worst radius  worst texture  \\\n",
            "531                 0.06461  ...         13.35          28.81   \n",
            "166                 0.06400  ...         11.60          12.02   \n",
            "485                 0.07325  ...         13.78          21.03   \n",
            "66                  0.06899  ...         10.41          31.56   \n",
            "220                 0.06344  ...         15.34          16.35   \n",
            "..                      ...  ...           ...            ...   \n",
            "305                 0.05878  ...         12.44          31.62   \n",
            "560                 0.06171  ...         15.30          33.17   \n",
            "285                 0.05855  ...         13.50          23.08   \n",
            "355                 0.06184  ...         13.37          22.43   \n",
            "329                 0.06532  ...         17.73          25.21   \n",
            "\n",
            "     worst perimeter  worst area  worst smoothness  worst compactness  \\\n",
            "531            87.00       550.6           0.15500            0.29640   \n",
            "166            73.66       414.0           0.14360            0.12570   \n",
            "485            97.82       580.6           0.11750            0.40610   \n",
            "66             67.03       330.7           0.15480            0.16640   \n",
            "220            99.71       706.2           0.13110            0.24740   \n",
            "..               ...         ...               ...                ...   \n",
            "305            81.39       476.5           0.09545            0.13610   \n",
            "560           100.20       706.7           0.12410            0.22640   \n",
            "285            85.56       564.1           0.10380            0.06624   \n",
            "355            89.02       547.4           0.10960            0.20020   \n",
            "329           113.70       975.2           0.14260            0.21160   \n",
            "\n",
            "     worst concavity  worst concave points  worst symmetry  \\\n",
            "531         0.275800              0.081200          0.3206   \n",
            "166         0.104700              0.046030          0.2090   \n",
            "485         0.489600              0.134200          0.3231   \n",
            "66          0.094120              0.065170          0.2878   \n",
            "220         0.175900              0.080560          0.2380   \n",
            "..               ...                   ...             ...   \n",
            "305         0.072390              0.048150          0.3244   \n",
            "560         0.132600              0.104800          0.2250   \n",
            "285         0.005579              0.008772          0.2505   \n",
            "355         0.238800              0.092650          0.2121   \n",
            "329         0.334400              0.104700          0.2736   \n",
            "\n",
            "     worst fractal dimension  \n",
            "531                  0.08950  \n",
            "166                  0.07699  \n",
            "485                  0.10340  \n",
            "66                   0.09211  \n",
            "220                  0.08718  \n",
            "..                       ...  \n",
            "305                  0.06745  \n",
            "560                  0.08321  \n",
            "285                  0.06431  \n",
            "355                  0.07188  \n",
            "329                  0.07953  \n",
            "\n",
            "[171 rows x 30 columns]>\n"
          ]
        }
      ]
    },
    {
      "cell_type": "markdown",
      "source": [
        "### 모형화 및 학습"
      ],
      "metadata": {
        "id": "PjUkt4nMxGuQ"
      }
    },
    {
      "cell_type": "code",
      "source": [
        "# SVM 분류 모형화 : 선형 분리\n",
        "clf = svm.SVC(kernel='linear')"
      ],
      "metadata": {
        "id": "nLJrI5axxCWo"
      },
      "execution_count": null,
      "outputs": []
    },
    {
      "cell_type": "code",
      "source": [
        "# 모형 학습\n",
        "clf.fit(X_train_std,Y_train)"
      ],
      "metadata": {
        "colab": {
          "base_uri": "https://localhost:8080/",
          "height": 75
        },
        "id": "SycH_XmZxQHn",
        "outputId": "82c38ead-53c5-4aeb-e6f3-34cfb2369b68"
      },
      "execution_count": null,
      "outputs": [
        {
          "output_type": "execute_result",
          "data": {
            "text/plain": [
              "SVC(kernel='linear')"
            ],
            "text/html": [
              "<style>#sk-container-id-2 {color: black;background-color: white;}#sk-container-id-2 pre{padding: 0;}#sk-container-id-2 div.sk-toggleable {background-color: white;}#sk-container-id-2 label.sk-toggleable__label {cursor: pointer;display: block;width: 100%;margin-bottom: 0;padding: 0.3em;box-sizing: border-box;text-align: center;}#sk-container-id-2 label.sk-toggleable__label-arrow:before {content: \"▸\";float: left;margin-right: 0.25em;color: #696969;}#sk-container-id-2 label.sk-toggleable__label-arrow:hover:before {color: black;}#sk-container-id-2 div.sk-estimator:hover label.sk-toggleable__label-arrow:before {color: black;}#sk-container-id-2 div.sk-toggleable__content {max-height: 0;max-width: 0;overflow: hidden;text-align: left;background-color: #f0f8ff;}#sk-container-id-2 div.sk-toggleable__content pre {margin: 0.2em;color: black;border-radius: 0.25em;background-color: #f0f8ff;}#sk-container-id-2 input.sk-toggleable__control:checked~div.sk-toggleable__content {max-height: 200px;max-width: 100%;overflow: auto;}#sk-container-id-2 input.sk-toggleable__control:checked~label.sk-toggleable__label-arrow:before {content: \"▾\";}#sk-container-id-2 div.sk-estimator input.sk-toggleable__control:checked~label.sk-toggleable__label {background-color: #d4ebff;}#sk-container-id-2 div.sk-label input.sk-toggleable__control:checked~label.sk-toggleable__label {background-color: #d4ebff;}#sk-container-id-2 input.sk-hidden--visually {border: 0;clip: rect(1px 1px 1px 1px);clip: rect(1px, 1px, 1px, 1px);height: 1px;margin: -1px;overflow: hidden;padding: 0;position: absolute;width: 1px;}#sk-container-id-2 div.sk-estimator {font-family: monospace;background-color: #f0f8ff;border: 1px dotted black;border-radius: 0.25em;box-sizing: border-box;margin-bottom: 0.5em;}#sk-container-id-2 div.sk-estimator:hover {background-color: #d4ebff;}#sk-container-id-2 div.sk-parallel-item::after {content: \"\";width: 100%;border-bottom: 1px solid gray;flex-grow: 1;}#sk-container-id-2 div.sk-label:hover label.sk-toggleable__label {background-color: #d4ebff;}#sk-container-id-2 div.sk-serial::before {content: \"\";position: absolute;border-left: 1px solid gray;box-sizing: border-box;top: 0;bottom: 0;left: 50%;z-index: 0;}#sk-container-id-2 div.sk-serial {display: flex;flex-direction: column;align-items: center;background-color: white;padding-right: 0.2em;padding-left: 0.2em;position: relative;}#sk-container-id-2 div.sk-item {position: relative;z-index: 1;}#sk-container-id-2 div.sk-parallel {display: flex;align-items: stretch;justify-content: center;background-color: white;position: relative;}#sk-container-id-2 div.sk-item::before, #sk-container-id-2 div.sk-parallel-item::before {content: \"\";position: absolute;border-left: 1px solid gray;box-sizing: border-box;top: 0;bottom: 0;left: 50%;z-index: -1;}#sk-container-id-2 div.sk-parallel-item {display: flex;flex-direction: column;z-index: 1;position: relative;background-color: white;}#sk-container-id-2 div.sk-parallel-item:first-child::after {align-self: flex-end;width: 50%;}#sk-container-id-2 div.sk-parallel-item:last-child::after {align-self: flex-start;width: 50%;}#sk-container-id-2 div.sk-parallel-item:only-child::after {width: 0;}#sk-container-id-2 div.sk-dashed-wrapped {border: 1px dashed gray;margin: 0 0.4em 0.5em 0.4em;box-sizing: border-box;padding-bottom: 0.4em;background-color: white;}#sk-container-id-2 div.sk-label label {font-family: monospace;font-weight: bold;display: inline-block;line-height: 1.2em;}#sk-container-id-2 div.sk-label-container {text-align: center;}#sk-container-id-2 div.sk-container {/* jupyter's `normalize.less` sets `[hidden] { display: none; }` but bootstrap.min.css set `[hidden] { display: none !important; }` so we also need the `!important` here to be able to override the default hidden behavior on the sphinx rendered scikit-learn.org. See: https://github.com/scikit-learn/scikit-learn/issues/21755 */display: inline-block !important;position: relative;}#sk-container-id-2 div.sk-text-repr-fallback {display: none;}</style><div id=\"sk-container-id-2\" class=\"sk-top-container\"><div class=\"sk-text-repr-fallback\"><pre>SVC(kernel=&#x27;linear&#x27;)</pre><b>In a Jupyter environment, please rerun this cell to show the HTML representation or trust the notebook. <br />On GitHub, the HTML representation is unable to render, please try loading this page with nbviewer.org.</b></div><div class=\"sk-container\" hidden><div class=\"sk-item\"><div class=\"sk-estimator sk-toggleable\"><input class=\"sk-toggleable__control sk-hidden--visually\" id=\"sk-estimator-id-2\" type=\"checkbox\" checked><label for=\"sk-estimator-id-2\" class=\"sk-toggleable__label sk-toggleable__label-arrow\">SVC</label><div class=\"sk-toggleable__content\"><pre>SVC(kernel=&#x27;linear&#x27;)</pre></div></div></div></div></div>"
            ]
          },
          "metadata": {},
          "execution_count": 38
        }
      ]
    },
    {
      "cell_type": "markdown",
      "source": [
        "### 예측 및 결과 분석\n",
        "\n",
        "정확도 94.74%"
      ],
      "metadata": {
        "id": "VCWakMkVxZBp"
      }
    },
    {
      "cell_type": "code",
      "source": [
        "# 테스트 데이터의 분류\n",
        "Y_pred = clf.predict(X_test_std)\n",
        "print(Y_pred)"
      ],
      "metadata": {
        "colab": {
          "base_uri": "https://localhost:8080/"
        },
        "id": "USihCQL6xU-p",
        "outputId": "db4bb542-d99c-4f0e-8910-a84233c0aab8"
      },
      "execution_count": null,
      "outputs": [
        {
          "output_type": "stream",
          "name": "stdout",
          "text": [
            "[1 1 1 1 1 1 0 1 0 0 0 1 1 1 1 0 1 1 1 0 1 0 0 0 0 1 0 1 1 1 1 1 0 1 1 1 1\n",
            " 0 1 1 0 1 0 1 1 1 1 1 0 1 1 1 1 0 0 1 1 1 1 0 1 1 1 1 1 0 0 1 1 1 1 0 1 1\n",
            " 1 1 1 0 1 0 1 1 1 0 0 0 0 0 1 0 1 1 1 0 0 1 1 1 1 1 0 0 1 1 0 1 1 0 0 1 0\n",
            " 1 0 0 1 1 1 0 1 0 1 1 1 1 0 1 0 0 1 1 0 1 0 1 1 1 1 1 1 0 1 0 0 1 0 1 1 1\n",
            " 0 1 1 1 0 1 1 0 1 0 0 1 1 1 0 1 1 0 1 1 1 1 0]\n"
          ]
        }
      ]
    },
    {
      "cell_type": "code",
      "source": [
        "# confusion matrix\n",
        "cf = confusion_matrix(Y_test, Y_pred)\n",
        "print(cf)"
      ],
      "metadata": {
        "colab": {
          "base_uri": "https://localhost:8080/"
        },
        "id": "gBOWm4pMxiKp",
        "outputId": "e6980ef2-903c-469e-c184-807ebedc4344"
      },
      "execution_count": null,
      "outputs": [
        {
          "output_type": "stream",
          "name": "stdout",
          "text": [
            "[[ 58   8]\n",
            " [  1 104]]\n"
          ]
        }
      ]
    },
    {
      "cell_type": "code",
      "source": [
        "# 테스트 데이터에 대한 정확도\n",
        "clf.score(X_test_std, Y_test)"
      ],
      "metadata": {
        "colab": {
          "base_uri": "https://localhost:8080/"
        },
        "id": "csE0N-LcxqKR",
        "outputId": "14145c03-3a95-4c6c-c3b8-582cb2b1f27c"
      },
      "execution_count": null,
      "outputs": [
        {
          "output_type": "execute_result",
          "data": {
            "text/plain": [
              "0.9473684210526315"
            ]
          },
          "metadata": {},
          "execution_count": 41
        }
      ]
    }
  ]
}