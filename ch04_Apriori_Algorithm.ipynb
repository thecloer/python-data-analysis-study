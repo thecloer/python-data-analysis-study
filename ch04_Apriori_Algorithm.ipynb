{
  "nbformat": 4,
  "nbformat_minor": 0,
  "metadata": {
    "colab": {
      "provenance": [],
      "toc_visible": true
    },
    "kernelspec": {
      "name": "python3",
      "display_name": "Python 3"
    },
    "language_info": {
      "name": "python"
    }
  },
  "cells": [
    {
      "cell_type": "markdown",
      "source": [
        "# Ch04 \bApriori 알고리즘\n",
        "\n",
        "2016930025   \n",
        "공간정보공학과   \n",
        "최석규   "
      ],
      "metadata": {
        "id": "Ad33JiSOsNN1"
      }
    },
    {
      "cell_type": "markdown",
      "source": [
        "## 연관분석\n",
        "\n",
        "펜을 사는 사람들은 노트도 필요할 것이니 노트와 펜을 같은 공간에 배치해 소비를 늘리는 것은 옳은 전략일까? 그렇다면 커피는 어떤 상품들과 함께 놓을 때 소비가 높아질까? 이러한 상품간의 연관성을 데이터를 통해 분석하는 과정을 `연관분석`이라 한다. 연관분석은 연관규칙을 발견하는 과정이다. '샴푸를 구매한 고객중 20%는 린스도 같이 구매한다'정도가 일종의 연관 규칙이 될 수 있다.\n"
      ],
      "metadata": {
        "id": "IuLDVrH531jK"
      }
    },
    {
      "cell_type": "markdown",
      "source": [
        "### 용어 정리\n",
        "\n",
        "상품 집합 T와 T의 서로 다른 부분집합 X와 Y에 대해서   \n",
        "*T = { i<sub>1</sub>, i<sub>2</sub>, i<sub>3</sub>, ..., i<sub>n</sub>}*  \n",
        "*X ⊂ T, X ⊂ T*   \n",
        "*X ∩ Y = ∅*   \n",
        "\n",
        "`지지도(support)`: 전체 거래중 해당 거래가 일어날 확률.  \n",
        "*Supp(X)* = (X상품을 포함한 거래 수) / (전체 상품 거래 수)  \n",
        "X와 Y상품 집합을 호함하는 거래에 대한 지지도: *Supp(X ∪ Y)*  \n",
        "*Supp(X ∪ Y)* = (X상품과 Y상품을 모두 포함한 거래 수) / (전체 상품 거래 수)\n",
        "\n",
        "\n",
        "`신뢰도(confidence)`: 조건 거래량중 해당 거래가 일어날 확률(조건부확률)  \n",
        "*Conf(X => Y) = Supp(X ∪ Y) / Supp(X)*  \n",
        "\n",
        "\n",
        "`향상도(lift)`: Y의 구매확률과 X가 구매될때 Y의 구매확률의 비율로 계산되는 연관성 지표로 1을 기준으로 1보다 크면 양의 상관, 작으면 음의 상관, 같으면 독립을 의미한다.    \n",
        "*Lift(X => Y) = conf(X => Y) / Supp(Y)\n",
        "= Supp(X ∪ Y) / (Supp(X) Supp(Y))*\n",
        "\n",
        "<br/>\n",
        "\n",
        "⚠️ X와 Y는 사건이 아닌 상품 집합이고, *X ∩ Y = ∅* 이므로 X와 Y상품 집합을 호함하는 거래에 대한 지지도는 *Supp(X ∩ Y)*이 아닌 *Supp(X ∪ Y)*이다."
      ],
      "metadata": {
        "id": "mjtYMvkwi65A"
      }
    },
    {
      "cell_type": "markdown",
      "source": [
        "## Aprioi 알고리즘\n",
        "\n",
        "연관성은 두 개 이상의 상품 사이에서 나타난다. n개의 상품으로 구성된 집합 *T*의 멱집합은 n<sup>2</sup>개의 원소로 구성된다. 이때, 공집합과 연관성을 가질 수 없는 원소의 개수가 1개인 단일 상품집합을 제외하면 연관성을 가질 수 있는 집합은 n<sup>2</sup> - (n+1)개다. 따라서 연관성을 가질 수 있는 모든 부분집합에 대해 연관성을 계산한다면 이는 최소 O(n<sup>2</sup>)의 수행시간을 갖는 알고리즘이 될것이다. \n",
        "\n",
        "`Apriori 알고리즘`은 모든 가능성에 대해 계산하지 않고 연관성이 나타날 수 있는 빈발항목 집합을 찾는 효율적인 방법을 제공한다.\n",
        "\n",
        "알고리즘의 대략적 수도코드는 다음과 같다.   \n",
        "`T`: 전체집합(Total set)  \n",
        "`C`: 후보집합(candidate set)   \n",
        "`L`: 빈발집합(large item set) 리스트\n",
        "```python\n",
        "k = 0\n",
        "L[k] = T\n",
        "while L[k] is not empth\n",
        "  k++\n",
        "  C = get_subset_with_size(L[k-1], k)\n",
        "  for c in C\n",
        "    if Supp(c) >= min_support\n",
        "      L[k].add(c)\n",
        "\n",
        "result = []\n",
        "for c in L[k-1]\n",
        "  for item in c\n",
        "    if Conf(item, c) >= min_confidence\n",
        "      if Lift(item, c) >= 1\n",
        "        result.add({\n",
        "          \"antecedent\": item,\n",
        "          \"consequent\": c,\n",
        "          \"lift\": Lift(item, c)\n",
        "        })\n",
        "  \n",
        "```"
      ],
      "metadata": {
        "id": "FLJ3qlT_llaZ"
      }
    },
    {
      "cell_type": "markdown",
      "source": [
        "## 파이썬 기반 분석(기본 예제)"
      ],
      "metadata": {
        "id": "Ucsxeyx82Fde"
      }
    },
    {
      "cell_type": "markdown",
      "source": [
        "### 패키지 설정\n",
        "\n",
        "`apriori`: apriori 알고리즘 모듈  \n",
        "`association_rules`: 연관분석 모듈  \n",
        "[`TransactionEncoder`](http://rasbt.github.io/mlxtend/user_guide/preprocessing/TransactionEncoder/): 리스트 -> 빈발항목집합(frequent itemset) 변환 모듈  \n",
        "`pandas`: 데이터 프레임 패키지  \n",
        "`matplotlib.pyplot`: 데이터 시각화 패키지 "
      ],
      "metadata": {
        "id": "D0VMMBgG2N1E"
      }
    },
    {
      "cell_type": "code",
      "source": [
        "# Apriori 알고리즘\n",
        "from mlxtend.frequent_patterns import apriori, association_rules\n",
        "# 연관분석용 데이터 변환\n",
        "from mlxtend.preprocessing import TransactionEncoder\n",
        "import pandas as pd\n",
        "import matplotlib.pyplot as plt"
      ],
      "metadata": {
        "id": "L32DjT5P3-ng"
      },
      "execution_count": null,
      "outputs": []
    },
    {
      "cell_type": "markdown",
      "source": [
        "### 원데이터 분석"
      ],
      "metadata": {
        "id": "SZdayNdq2QFe"
      }
    },
    {
      "cell_type": "code",
      "source": [
        "# 구매 기록 데이터\n",
        "tran=[['A', 'B', 'C', 'D', 'E'],\n",
        "      ['B', 'C'],\n",
        "      ['A', 'B', 'F'],\n",
        "      ['A', 'B', 'G'],\n",
        "      ['A', 'F', 'H'],\n",
        "]"
      ],
      "metadata": {
        "id": "xSJtjaKe4pq4"
      },
      "execution_count": null,
      "outputs": []
    },
    {
      "cell_type": "code",
      "source": [
        "# 데이터를 연관분석이 가능한 거래유무 행렬로 변환 \n",
        "te = TransactionEncoder()\n",
        "tran_ar = te.fit(tran).transform(tran)\n",
        "print(tran_ar) # 각 셀의 T/F 는 거래 유무를 나타낸다.\n",
        "# 열이름\n",
        "print(te.columns_)"
      ],
      "metadata": {
        "colab": {
          "base_uri": "https://localhost:8080/"
        },
        "id": "Q37OciXe5Ex8",
        "outputId": "867bb2f1-3830-4639-809a-e000ca37b1a3"
      },
      "execution_count": null,
      "outputs": [
        {
          "output_type": "stream",
          "name": "stdout",
          "text": [
            "[[ True  True  True  True  True False False False]\n",
            " [False  True  True False False False False False]\n",
            " [ True  True False False False  True False False]\n",
            " [ True  True False False False False  True False]\n",
            " [ True False False False False  True False  True]]\n",
            "['A', 'B', 'C', 'D', 'E', 'F', 'G', 'H']\n"
          ]
        }
      ]
    },
    {
      "cell_type": "code",
      "source": [
        "# 열이름과 거래유무 행렬 데이터을 프레임으로 변환\n",
        "df = pd.DataFrame(tran_ar, columns=te.columns_)\n",
        "print(df)"
      ],
      "metadata": {
        "colab": {
          "base_uri": "https://localhost:8080/"
        },
        "id": "9TV45IEv5m2X",
        "outputId": "fcbbbaf0-91d3-498a-e26e-990c74391cc0"
      },
      "execution_count": null,
      "outputs": [
        {
          "output_type": "stream",
          "name": "stdout",
          "text": [
            "       A      B      C      D      E      F      G      H\n",
            "0   True   True   True   True   True  False  False  False\n",
            "1  False   True   True  False  False  False  False  False\n",
            "2   True   True  False  False  False   True  False  False\n",
            "3   True   True  False  False  False  False   True  False\n",
            "4   True  False  False  False  False   True  False   True\n"
          ]
        }
      ]
    },
    {
      "cell_type": "code",
      "source": [
        "# 각 상품별 거래빈도\n",
        "freq = df.sum().to_frame('Frequency')\n",
        "# 빈도 내림차순으로 정렬\n",
        "freq_sort = freq.sort_values('Frequency', ascending=False)\n",
        "print(freq_sort)"
      ],
      "metadata": {
        "colab": {
          "base_uri": "https://localhost:8080/"
        },
        "id": "iG2YdXhw6iJw",
        "outputId": "7dbdb032-0a7e-4204-fca9-d186ee7ccf72"
      },
      "execution_count": null,
      "outputs": [
        {
          "output_type": "stream",
          "name": "stdout",
          "text": [
            "   Frequency\n",
            "A          4\n",
            "B          4\n",
            "C          2\n",
            "F          2\n",
            "D          1\n",
            "E          1\n",
            "G          1\n",
            "H          1\n"
          ]
        }
      ]
    },
    {
      "cell_type": "code",
      "source": [
        "# 지지도(Support) 계산\n",
        "freq_sort['Support'] = freq_sort['Frequency'] / len(tran)\n",
        "print(freq_sort)"
      ],
      "metadata": {
        "colab": {
          "base_uri": "https://localhost:8080/"
        },
        "id": "l8cSKNGs7B5q",
        "outputId": "8b0e410e-5db3-4acb-f153-c1d2d313a83f"
      },
      "execution_count": null,
      "outputs": [
        {
          "output_type": "stream",
          "name": "stdout",
          "text": [
            "   Frequency  Support\n",
            "A          4      0.8\n",
            "B          4      0.8\n",
            "C          2      0.4\n",
            "F          2      0.4\n",
            "D          1      0.2\n",
            "E          1      0.2\n",
            "G          1      0.2\n",
            "H          1      0.2\n"
          ]
        }
      ]
    },
    {
      "cell_type": "code",
      "source": [
        "#상품 아이템별 거래빈도 그래프\n",
        "freq_sort['Frequency'].plot(kind='bar', title='Frequent Items')"
      ],
      "metadata": {
        "colab": {
          "base_uri": "https://localhost:8080/",
          "height": 297
        },
        "id": "QypglYDv9MGk",
        "outputId": "60d3022e-c113-4c82-e88e-7f65da11dff5"
      },
      "execution_count": null,
      "outputs": [
        {
          "output_type": "execute_result",
          "data": {
            "text/plain": [
              "<Axes: title={'center': 'Frequent Items'}>"
            ]
          },
          "metadata": {},
          "execution_count": 22
        },
        {
          "output_type": "display_data",
          "data": {
            "text/plain": [
              "<Figure size 432x288 with 1 Axes>"
            ],
            "image/png": "[encoded data removed]"
          },
          "metadata": {
            "needs_background": "light"
          }
        }
      ]
    },
    {
      "cell_type": "code",
      "source": [
        "# 상품 아이템 지지도 히스토그램\n",
        "freq_sort['Support'].hist(bins=6)"
      ],
      "metadata": {
        "colab": {
          "base_uri": "https://localhost:8080/",
          "height": 283
        },
        "id": "iN--Y88N9rW2",
        "outputId": "41b2c822-b5d2-4d78-89dc-a4e3abf4d88a"
      },
      "execution_count": null,
      "outputs": [
        {
          "output_type": "execute_result",
          "data": {
            "text/plain": [
              "<Axes: >"
            ]
          },
          "metadata": {},
          "execution_count": 27
        },
        {
          "output_type": "display_data",
          "data": {
            "text/plain": [
              "<Figure size 432x288 with 1 Axes>"
            ],
            "image/png": "[encoded data removed]"
          },
          "metadata": {
            "needs_background": "light"
          }
        }
      ]
    },
    {
      "cell_type": "markdown",
      "source": [
        "### 연관규칙 생성"
      ],
      "metadata": {
        "id": "6wTTa21A2WAH"
      }
    },
    {
      "cell_type": "code",
      "source": [
        "# 최소 지지도 0.4로 설정할 경우\n",
        "min_support = 0.4\n",
        "# 빈발항목과 지지도\n",
        "freq_items = apriori(df, min_support=min_support, use_colnames=True)\n",
        "print(freq_items)"
      ],
      "metadata": {
        "colab": {
          "base_uri": "https://localhost:8080/"
        },
        "id": "HF0Rl9n2-UwM",
        "outputId": "718d6c70-f998-428e-d875-66f1442b6f5c"
      },
      "execution_count": null,
      "outputs": [
        {
          "output_type": "stream",
          "name": "stdout",
          "text": [
            "   support itemsets\n",
            "0      0.8      (A)\n",
            "1      0.8      (B)\n",
            "2      0.4      (C)\n",
            "3      0.4      (F)\n",
            "4      0.6   (A, B)\n",
            "5      0.4   (F, A)\n",
            "6      0.4   (C, B)\n"
          ]
        }
      ]
    },
    {
      "cell_type": "code",
      "source": [
        "# 최소 신뢰도(confidence)를 0.7로 설정할 경우\n",
        "min_confidence = 0.7\n",
        "# 연관 규칙\n",
        "rules = association_rules(freq_items, metric='confidence', min_threshold=min_confidence)\n",
        "print(rules)"
      ],
      "metadata": {
        "colab": {
          "base_uri": "https://localhost:8080/"
        },
        "id": "ckBAk-wp-9x2",
        "outputId": "38b8fda3-42e2-4ddf-92dd-fbc24c54036d"
      },
      "execution_count": null,
      "outputs": [
        {
          "output_type": "stream",
          "name": "stdout",
          "text": [
            "  antecedents consequents  antecedent support  consequent support  support  \\\n",
            "0         (A)         (B)                 0.8                 0.8      0.6   \n",
            "1         (B)         (A)                 0.8                 0.8      0.6   \n",
            "2         (F)         (A)                 0.4                 0.8      0.4   \n",
            "3         (C)         (B)                 0.4                 0.8      0.4   \n",
            "\n",
            "   confidence    lift  leverage  conviction  \n",
            "0        0.75  0.9375     -0.04         0.8  \n",
            "1        0.75  0.9375     -0.04         0.8  \n",
            "2        1.00  1.2500      0.08         inf  \n",
            "3        1.00  1.2500      0.08         inf  \n"
          ]
        }
      ]
    },
    {
      "cell_type": "markdown",
      "source": [
        "#### 연관규칙 결과\n",
        "\n",
        "위 결과를 보면 4개의 연관 규칙이 만들어졌다. 각열은 `조건절 항목(antecedents)`, `종속절 항목(consequents)`, `조건절 지지도(antecedent support)`, `종속절 지지도(consequent support)`, `신뢰도(suppor)`, `향상도(left)`, `레버러지(leverage)`, `확신도(conviction)`을 의미한다.\n",
        "\n",
        "\n",
        "`레버러지(reverage)`는 리프트의 (분자) - (분모)값이다. 리프트가 1 보다 크다면 레버러지는 양수이고 1보다 작다면 음수이다.  \n",
        "Reverage = *Supp(X ∩ Y) - Supp(X) Supp(Y)*\n",
        "\n",
        "\n",
        "`확신도(conviction)`는 1이면 독립, 1보다 작으면 X를 구매 시 Y를 구매하지 않는 거래 수가 전체 거래에서 Y를 구매하지 않는거래의 수보다 큼을 의미한다.   \n",
        "Conviction = *(1 - Supp(Y)) / (1 - conf(X => Y))*"
      ],
      "metadata": {
        "id": "mNJkW1Nr_fGc"
      }
    },
    {
      "cell_type": "code",
      "source": [
        "# 리프트가 1보다 큰 양의 상관관계를 만족하는 연관 규칙 추출\n",
        "rules = rules[rules['lift'] > 1]\n",
        "# 신뢰도의 내림차순으로 정렬\n",
        "rules.sort_values(by='confidence', ascending=False)"
      ],
      "metadata": {
        "colab": {
          "base_uri": "https://localhost:8080/",
          "height": 112
        },
        "id": "OfGHRCy7Ew9V",
        "outputId": "33901450-f98b-4a67-a25c-23497779bd5a"
      },
      "execution_count": null,
      "outputs": [
        {
          "output_type": "execute_result",
          "data": {
            "text/plain": [
              "  antecedents consequents  antecedent support  consequent support  support  \\\n",
              "2         (F)         (A)                 0.4                 0.8      0.4   \n",
              "3         (C)         (B)                 0.4                 0.8      0.4   \n",
              "\n",
              "   confidence  lift  leverage  conviction  \n",
              "2         1.0  1.25      0.08         inf  \n",
              "3         1.0  1.25      0.08         inf  "
            ],
            "text/html": [
              "\n",
              "  <div id=\"df-0dd834c5-a544-4a97-b4a9-306297c43f6d\">\n",
              "    <div class=\"colab-df-container\">\n",
              "      <div>\n",
              "<style scoped>\n",
              "    .dataframe tbody tr th:only-of-type {\n",
              "        vertical-align: middle;\n",
              "    }\n",
              "\n",
              "    .dataframe tbody tr th {\n",
              "        vertical-align: top;\n",
              "    }\n",
              "\n",
              "    .dataframe thead th {\n",
              "        text-align: right;\n",
              "    }\n",
              "</style>\n",
              "<table border=\"1\" class=\"dataframe\">\n",
              "  <thead>\n",
              "    <tr style=\"text-align: right;\">\n",
              "      <th></th>\n",
              "      <th>antecedents</th>\n",
              "      <th>consequents</th>\n",
              "      <th>antecedent support</th>\n",
              "      <th>consequent support</th>\n",
              "      <th>support</th>\n",
              "      <th>confidence</th>\n",
              "      <th>lift</th>\n",
              "      <th>leverage</th>\n",
              "      <th>conviction</th>\n",
              "    </tr>\n",
              "  </thead>\n",
              "  <tbody>\n",
              "    <tr>\n",
              "      <th>2</th>\n",
              "      <td>(F)</td>\n",
              "      <td>(A)</td>\n",
              "      <td>0.4</td>\n",
              "      <td>0.8</td>\n",
              "      <td>0.4</td>\n",
              "      <td>1.0</td>\n",
              "      <td>1.25</td>\n",
              "      <td>0.08</td>\n",
              "      <td>inf</td>\n",
              "    </tr>\n",
              "    <tr>\n",
              "      <th>3</th>\n",
              "      <td>(C)</td>\n",
              "      <td>(B)</td>\n",
              "      <td>0.4</td>\n",
              "      <td>0.8</td>\n",
              "      <td>0.4</td>\n",
              "      <td>1.0</td>\n",
              "      <td>1.25</td>\n",
              "      <td>0.08</td>\n",
              "      <td>inf</td>\n",
              "    </tr>\n",
              "  </tbody>\n",
              "</table>\n",
              "</div>\n",
              "      <button class=\"colab-df-convert\" onclick=\"convertToInteractive('df-0dd834c5-a544-4a97-b4a9-306297c43f6d')\"\n",
              "              title=\"Convert this dataframe to an interactive table.\"\n",
              "              style=\"display:none;\">\n",
              "        \n",
              "  <svg xmlns=\"http://www.w3.org/2000/svg\" height=\"24px\"viewBox=\"0 0 24 24\"\n",
              "       width=\"24px\">\n",
              "    <path d=\"M0 0h24v24H0V0z\" fill=\"none\"/>\n",
              "    <path d=\"M18.56 5.44l.94 2.06.94-2.06 2.06-.94-2.06-.94-.94-2.06-.94 2.06-2.06.94zm-11 1L8.5 8.5l.94-2.06 2.06-.94-2.06-.94L8.5 2.5l-.94 2.06-2.06.94zm10 10l.94 2.06.94-2.06 2.06-.94-2.06-.94-.94-2.06-.94 2.06-2.06.94z\"/><path d=\"M17.41 7.96l-1.37-1.37c-.4-.4-.92-.59-1.43-.59-.52 0-1.04.2-1.43.59L10.3 9.45l-7.72 7.72c-.78.78-.78 2.05 0 2.83L4 21.41c.39.39.9.59 1.41.59.51 0 1.02-.2 1.41-.59l7.78-7.78 2.81-2.81c.8-.78.8-2.07 0-2.86zM5.41 20L4 18.59l7.72-7.72 1.47 1.35L5.41 20z\"/>\n",
              "  </svg>\n",
              "      </button>\n",
              "      \n",
              "  <style>\n",
              "    .colab-df-container {\n",
              "      display:flex;\n",
              "      flex-wrap:wrap;\n",
              "      gap: 12px;\n",
              "    }\n",
              "\n",
              "    .colab-df-convert {\n",
              "      background-color: #E8F0FE;\n",
              "      border: none;\n",
              "      border-radius: 50%;\n",
              "      cursor: pointer;\n",
              "      display: none;\n",
              "      fill: #1967D2;\n",
              "      height: 32px;\n",
              "      padding: 0 0 0 0;\n",
              "      width: 32px;\n",
              "    }\n",
              "\n",
              "    .colab-df-convert:hover {\n",
              "      background-color: #E2EBFA;\n",
              "      box-shadow: 0px 1px 2px rgba(60, 64, 67, 0.3), 0px 1px 3px 1px rgba(60, 64, 67, 0.15);\n",
              "      fill: #174EA6;\n",
              "    }\n",
              "\n",
              "    [theme=dark] .colab-df-convert {\n",
              "      background-color: #3B4455;\n",
              "      fill: #D2E3FC;\n",
              "    }\n",
              "\n",
              "    [theme=dark] .colab-df-convert:hover {\n",
              "      background-color: #434B5C;\n",
              "      box-shadow: 0px 1px 3px 1px rgba(0, 0, 0, 0.15);\n",
              "      filter: drop-shadow(0px 1px 2px rgba(0, 0, 0, 0.3));\n",
              "      fill: #FFFFFF;\n",
              "    }\n",
              "  </style>\n",
              "\n",
              "      <script>\n",
              "        const buttonEl =\n",
              "          document.querySelector('#df-0dd834c5-a544-4a97-b4a9-306297c43f6d button.colab-df-convert');\n",
              "        buttonEl.style.display =\n",
              "          google.colab.kernel.accessAllowed ? 'block' : 'none';\n",
              "\n",
              "        async function convertToInteractive(key) {\n",
              "          const element = document.querySelector('#df-0dd834c5-a544-4a97-b4a9-306297c43f6d');\n",
              "          const dataTable =\n",
              "            await google.colab.kernel.invokeFunction('convertToInteractive',\n",
              "                                                     [key], {});\n",
              "          if (!dataTable) return;\n",
              "\n",
              "          const docLinkHtml = 'Like what you see? Visit the ' +\n",
              "            '<a target=\"_blank\" href=https://colab.research.google.com/notebooks/data_table.ipynb>data table notebook</a>'\n",
              "            + ' to learn more about interactive tables.';\n",
              "          element.innerHTML = '';\n",
              "          dataTable['output_type'] = 'display_data';\n",
              "          await google.colab.output.renderOutput(dataTable, element);\n",
              "          const docLink = document.createElement('div');\n",
              "          docLink.innerHTML = docLinkHtml;\n",
              "          element.appendChild(docLink);\n",
              "        }\n",
              "      </script>\n",
              "    </div>\n",
              "  </div>\n",
              "  "
            ]
          },
          "metadata": {},
          "execution_count": 34
        }
      ]
    },
    {
      "cell_type": "markdown",
      "source": [
        "### 결과 분석\n",
        "\n",
        "위 결과를 분석해보자.\n",
        "1. 조건2(F -> A)  \n",
        "lift가 1보다 크므로 F를 구매하면 \bA를 구매하는 경향이 있다. confidence가 1이므로 F를 구매할 경우 100% A를 구매했다.\n",
        "2. 조건3(C -> B)  \n",
        "lift가 1보다 크므로 C를 구매하면 \bB를 구매하는 경향이 있다. confidence가 1이므로 C를 구매할 경우 100% B를 구매했다."
      ],
      "metadata": {
        "id": "LUvg1rJW2dWG"
      }
    },
    {
      "cell_type": "code",
      "source": [
        "# 원데이터로 결과 확인\n",
        "# F를 구매한경우 100% A를 구매했다.\n",
        "# F를 구매한 경우 출력\n",
        "print(list(filter(lambda items: 'F' in items, tran)))\n",
        "\n",
        "# C를 구매한경우 100% B를 구매했다.\n",
        "# C를 구매한 경우 출력\n",
        "print(list(filter(lambda items: 'C' in items, tran)))"
      ],
      "metadata": {
        "colab": {
          "base_uri": "https://localhost:8080/"
        },
        "id": "JT0xNw9dljW8",
        "outputId": "3f3c488a-1f40-4998-e3c9-ec62eb21bebe"
      },
      "execution_count": null,
      "outputs": [
        {
          "output_type": "stream",
          "name": "stdout",
          "text": [
            "[['A', 'B', 'F'], ['A', 'F', 'H']]\n",
            "[['A', 'B', 'C', 'D', 'E'], ['B', 'C']]\n"
          ]
        }
      ]
    },
    {
      "cell_type": "markdown",
      "source": [
        "## 응용 예제\n",
        "\n",
        "UCI에서 제공하는 [Online Retail](https://archive.ics.uci.edu/ml/datasets/Online+Retail) 데이터를 활용해 연관분석을 진행해보자.  \n"
      ],
      "metadata": {
        "id": "43QyUnP3HuxL"
      }
    },
    {
      "cell_type": "markdown",
      "source": [
        "### 패키지 설정"
      ],
      "metadata": {
        "id": "-lIuyz3-I5oM"
      }
    },
    {
      "cell_type": "code",
      "source": [
        "from mlxtend.frequent_patterns import apriori, association_rules\n",
        "import pandas as pd\n",
        "import matplotlib.pyplot as plt"
      ],
      "metadata": {
        "id": "R3L2jghrJBsq"
      },
      "execution_count": null,
      "outputs": []
    },
    {
      "cell_type": "markdown",
      "source": [
        "### 원데이터 분석"
      ],
      "metadata": {
        "id": "nxCWt1BHI75O"
      }
    },
    {
      "cell_type": "markdown",
      "source": [
        "#### 데이터 가공\n",
        "1. 데이터 불러오기\n",
        "2. 거래량있는 데이터만 남기기\n",
        "3. 거래별(`invoiceNo`), 상품명별(`Description`)로 그루핑, 합계 구하기\n",
        "4. 거래와 상품명을 각각 행, 열로 재구조화 한다. 셀의 값은 거래 유무(1/0)로 한다."
      ],
      "metadata": {
        "id": "hUfSOJkgMwu8"
      }
    },
    {
      "cell_type": "markdown",
      "source": [
        "![image.png](data:image/png;base64,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)"
      ],
      "metadata": {
        "id": "MiUyKbgBN3Qh"
      }
    },
    {
      "cell_type": "code",
      "source": [
        "# 데이터 파일 링크 주소\n",
        "data_url = 'https://archive.ics.uci.edu/ml/machine-learning-databases/00352/Online%20Retail.xlsx'\n",
        "# 데이터 파일 읽기\n",
        "df = pd.read_excel(data_url)\n",
        "df.head()"
      ],
      "metadata": {
        "colab": {
          "base_uri": "https://localhost:8080/",
          "height": 250
        },
        "id": "5p8kdmAiJQxx",
        "outputId": "f78a87eb-a68a-4efe-a471-6d5c1b81d771"
      },
      "execution_count": null,
      "outputs": [
        {
          "output_type": "execute_result",
          "data": {
            "text/plain": [
              "  InvoiceNo StockCode                          Description  Quantity  \\\n",
              "0    536365    85123A   WHITE HANGING HEART T-LIGHT HOLDER         6   \n",
              "1    536365     71053                  WHITE METAL LANTERN         6   \n",
              "2    536365    84406B       CREAM CUPID HEARTS COAT HANGER         8   \n",
              "3    536365    84029G  KNITTED UNION FLAG HOT WATER BOTTLE         6   \n",
              "4    536365    84029E       RED WOOLLY HOTTIE WHITE HEART.         6   \n",
              "\n",
              "          InvoiceDate  UnitPrice  CustomerID         Country  \n",
              "0 2010-12-01 08:26:00       2.55     17850.0  United Kingdom  \n",
              "1 2010-12-01 08:26:00       3.39     17850.0  United Kingdom  \n",
              "2 2010-12-01 08:26:00       2.75     17850.0  United Kingdom  \n",
              "3 2010-12-01 08:26:00       3.39     17850.0  United Kingdom  \n",
              "4 2010-12-01 08:26:00       3.39     17850.0  United Kingdom  "
            ],
            "text/html": [
              "\n",
              "  <div id=\"df-727ce6e1-a883-4711-bc81-3e498454028f\">\n",
              "    <div class=\"colab-df-container\">\n",
              "      <div>\n",
              "<style scoped>\n",
              "    .dataframe tbody tr th:only-of-type {\n",
              "        vertical-align: middle;\n",
              "    }\n",
              "\n",
              "    .dataframe tbody tr th {\n",
              "        vertical-align: top;\n",
              "    }\n",
              "\n",
              "    .dataframe thead th {\n",
              "        text-align: right;\n",
              "    }\n",
              "</style>\n",
              "<table border=\"1\" class=\"dataframe\">\n",
              "  <thead>\n",
              "    <tr style=\"text-align: right;\">\n",
              "      <th></th>\n",
              "      <th>InvoiceNo</th>\n",
              "      <th>StockCode</th>\n",
              "      <th>Description</th>\n",
              "      <th>Quantity</th>\n",
              "      <th>InvoiceDate</th>\n",
              "      <th>UnitPrice</th>\n",
              "      <th>CustomerID</th>\n",
              "      <th>Country</th>\n",
              "    </tr>\n",
              "  </thead>\n",
              "  <tbody>\n",
              "    <tr>\n",
              "      <th>0</th>\n",
              "      <td>536365</td>\n",
              "      <td>85123A</td>\n",
              "      <td>WHITE HANGING HEART T-LIGHT HOLDER</td>\n",
              "      <td>6</td>\n",
              "      <td>2010-12-01 08:26:00</td>\n",
              "      <td>2.55</td>\n",
              "      <td>17850.0</td>\n",
              "      <td>United Kingdom</td>\n",
              "    </tr>\n",
              "    <tr>\n",
              "      <th>1</th>\n",
              "      <td>536365</td>\n",
              "      <td>71053</td>\n",
              "      <td>WHITE METAL LANTERN</td>\n",
              "      <td>6</td>\n",
              "      <td>2010-12-01 08:26:00</td>\n",
              "      <td>3.39</td>\n",
              "      <td>17850.0</td>\n",
              "      <td>United Kingdom</td>\n",
              "    </tr>\n",
              "    <tr>\n",
              "      <th>2</th>\n",
              "      <td>536365</td>\n",
              "      <td>84406B</td>\n",
              "      <td>CREAM CUPID HEARTS COAT HANGER</td>\n",
              "      <td>8</td>\n",
              "      <td>2010-12-01 08:26:00</td>\n",
              "      <td>2.75</td>\n",
              "      <td>17850.0</td>\n",
              "      <td>United Kingdom</td>\n",
              "    </tr>\n",
              "    <tr>\n",
              "      <th>3</th>\n",
              "      <td>536365</td>\n",
              "      <td>84029G</td>\n",
              "      <td>KNITTED UNION FLAG HOT WATER BOTTLE</td>\n",
              "      <td>6</td>\n",
              "      <td>2010-12-01 08:26:00</td>\n",
              "      <td>3.39</td>\n",
              "      <td>17850.0</td>\n",
              "      <td>United Kingdom</td>\n",
              "    </tr>\n",
              "    <tr>\n",
              "      <th>4</th>\n",
              "      <td>536365</td>\n",
              "      <td>84029E</td>\n",
              "      <td>RED WOOLLY HOTTIE WHITE HEART.</td>\n",
              "      <td>6</td>\n",
              "      <td>2010-12-01 08:26:00</td>\n",
              "      <td>3.39</td>\n",
              "      <td>17850.0</td>\n",
              "      <td>United Kingdom</td>\n",
              "    </tr>\n",
              "  </tbody>\n",
              "</table>\n",
              "</div>\n",
              "      <button class=\"colab-df-convert\" onclick=\"convertToInteractive('df-727ce6e1-a883-4711-bc81-3e498454028f')\"\n",
              "              title=\"Convert this dataframe to an interactive table.\"\n",
              "              style=\"display:none;\">\n",
              "        \n",
              "  <svg xmlns=\"http://www.w3.org/2000/svg\" height=\"24px\"viewBox=\"0 0 24 24\"\n",
              "       width=\"24px\">\n",
              "    <path d=\"M0 0h24v24H0V0z\" fill=\"none\"/>\n",
              "    <path d=\"M18.56 5.44l.94 2.06.94-2.06 2.06-.94-2.06-.94-.94-2.06-.94 2.06-2.06.94zm-11 1L8.5 8.5l.94-2.06 2.06-.94-2.06-.94L8.5 2.5l-.94 2.06-2.06.94zm10 10l.94 2.06.94-2.06 2.06-.94-2.06-.94-.94-2.06-.94 2.06-2.06.94z\"/><path d=\"M17.41 7.96l-1.37-1.37c-.4-.4-.92-.59-1.43-.59-.52 0-1.04.2-1.43.59L10.3 9.45l-7.72 7.72c-.78.78-.78 2.05 0 2.83L4 21.41c.39.39.9.59 1.41.59.51 0 1.02-.2 1.41-.59l7.78-7.78 2.81-2.81c.8-.78.8-2.07 0-2.86zM5.41 20L4 18.59l7.72-7.72 1.47 1.35L5.41 20z\"/>\n",
              "  </svg>\n",
              "      </button>\n",
              "      \n",
              "  <style>\n",
              "    .colab-df-container {\n",
              "      display:flex;\n",
              "      flex-wrap:wrap;\n",
              "      gap: 12px;\n",
              "    }\n",
              "\n",
              "    .colab-df-convert {\n",
              "      background-color: #E8F0FE;\n",
              "      border: none;\n",
              "      border-radius: 50%;\n",
              "      cursor: pointer;\n",
              "      display: none;\n",
              "      fill: #1967D2;\n",
              "      height: 32px;\n",
              "      padding: 0 0 0 0;\n",
              "      width: 32px;\n",
              "    }\n",
              "\n",
              "    .colab-df-convert:hover {\n",
              "      background-color: #E2EBFA;\n",
              "      box-shadow: 0px 1px 2px rgba(60, 64, 67, 0.3), 0px 1px 3px 1px rgba(60, 64, 67, 0.15);\n",
              "      fill: #174EA6;\n",
              "    }\n",
              "\n",
              "    [theme=dark] .colab-df-convert {\n",
              "      background-color: #3B4455;\n",
              "      fill: #D2E3FC;\n",
              "    }\n",
              "\n",
              "    [theme=dark] .colab-df-convert:hover {\n",
              "      background-color: #434B5C;\n",
              "      box-shadow: 0px 1px 3px 1px rgba(0, 0, 0, 0.15);\n",
              "      filter: drop-shadow(0px 1px 2px rgba(0, 0, 0, 0.3));\n",
              "      fill: #FFFFFF;\n",
              "    }\n",
              "  </style>\n",
              "\n",
              "      <script>\n",
              "        const buttonEl =\n",
              "          document.querySelector('#df-727ce6e1-a883-4711-bc81-3e498454028f button.colab-df-convert');\n",
              "        buttonEl.style.display =\n",
              "          google.colab.kernel.accessAllowed ? 'block' : 'none';\n",
              "\n",
              "        async function convertToInteractive(key) {\n",
              "          const element = document.querySelector('#df-727ce6e1-a883-4711-bc81-3e498454028f');\n",
              "          const dataTable =\n",
              "            await google.colab.kernel.invokeFunction('convertToInteractive',\n",
              "                                                     [key], {});\n",
              "          if (!dataTable) return;\n",
              "\n",
              "          const docLinkHtml = 'Like what you see? Visit the ' +\n",
              "            '<a target=\"_blank\" href=https://colab.research.google.com/notebooks/data_table.ipynb>data table notebook</a>'\n",
              "            + ' to learn more about interactive tables.';\n",
              "          element.innerHTML = '';\n",
              "          dataTable['output_type'] = 'display_data';\n",
              "          await google.colab.output.renderOutput(dataTable, element);\n",
              "          const docLink = document.createElement('div');\n",
              "          docLink.innerHTML = docLinkHtml;\n",
              "          element.appendChild(docLink);\n",
              "        }\n",
              "      </script>\n",
              "    </div>\n",
              "  </div>\n",
              "  "
            ]
          },
          "metadata": {},
          "execution_count": 47
        }
      ]
    },
    {
      "cell_type": "code",
      "source": [
        "print(f'before: {df.shape[0]}')\n",
        "\n",
        "# 구매량이 0보다 큰 거래량 추출\n",
        "df = df[df.Quantity > 0]\n",
        "df.head()\n",
        "print(f'before: {df.shape[0]}')"
      ],
      "metadata": {
        "colab": {
          "base_uri": "https://localhost:8080/"
        },
        "id": "GaK_u3GtKGOC",
        "outputId": "49f27df8-d33a-4e87-e45e-1b9ce3b548fe"
      },
      "execution_count": null,
      "outputs": [
        {
          "output_type": "stream",
          "name": "stdout",
          "text": [
            "before: 541909\n",
            "before: 531285\n"
          ]
        }
      ]
    },
    {
      "cell_type": "code",
      "source": [
        "# 거래별 상품별 수량 합계\n",
        "df = df.groupby(['InvoiceNo','Description'])['Quantity'].sum()\n",
        "print(df)"
      ],
      "metadata": {
        "colab": {
          "base_uri": "https://localhost:8080/"
        },
        "id": "XNTIwn-gKTEM",
        "outputId": "7043e541-8447-4aa1-88f9-3b080de49c51"
      },
      "execution_count": null,
      "outputs": [
        {
          "output_type": "stream",
          "name": "stdout",
          "text": [
            "InvoiceNo  Description                        \n",
            "536365     CREAM CUPID HEARTS COAT HANGER          8\n",
            "           GLASS STAR FROSTED T-LIGHT HOLDER       6\n",
            "           KNITTED UNION FLAG HOT WATER BOTTLE     6\n",
            "           RED WOOLLY HOTTIE WHITE HEART.          6\n",
            "           SET 7 BABUSHKA NESTING BOXES            2\n",
            "                                                  ..\n",
            "581587     PLASTERS IN TIN STRONGMAN              12\n",
            "           SPACEBOY LUNCH BOX                     12\n",
            "A563185    Adjust bad debt                         1\n",
            "A563186    Adjust bad debt                         1\n",
            "A563187    Adjust bad debt                         1\n",
            "Name: Quantity, Length: 519974, dtype: int64\n"
          ]
        }
      ]
    },
    {
      "cell_type": "code",
      "source": [
        "# 데이터 프레임 재구조화(unstack)\n",
        "df = df.unstack()\n",
        "print(df)"
      ],
      "metadata": {
        "colab": {
          "base_uri": "https://localhost:8080/"
        },
        "id": "bGph7cTKOO-f",
        "outputId": "1220f0a2-60e0-4ea1-b698-f6ceb539db93"
      },
      "execution_count": null,
      "outputs": [
        {
          "output_type": "stream",
          "name": "stdout",
          "text": [
            "Description   4 PURPLE FLOCK DINNER CANDLES   50'S CHRISTMAS GIFT BAG LARGE  \\\n",
            "InvoiceNo                                                                     \n",
            "536365                                  NaN                             NaN   \n",
            "536366                                  NaN                             NaN   \n",
            "536367                                  NaN                             NaN   \n",
            "536368                                  NaN                             NaN   \n",
            "536369                                  NaN                             NaN   \n",
            "...                                     ...                             ...   \n",
            "581586                                  NaN                             NaN   \n",
            "581587                                  NaN                             NaN   \n",
            "A563185                                 NaN                             NaN   \n",
            "A563186                                 NaN                             NaN   \n",
            "A563187                                 NaN                             NaN   \n",
            "\n",
            "Description   DOLLY GIRL BEAKER   I LOVE LONDON MINI BACKPACK  \\\n",
            "InvoiceNo                                                       \n",
            "536365                      NaN                           NaN   \n",
            "536366                      NaN                           NaN   \n",
            "536367                      NaN                           NaN   \n",
            "536368                      NaN                           NaN   \n",
            "536369                      NaN                           NaN   \n",
            "...                         ...                           ...   \n",
            "581586                      NaN                           NaN   \n",
            "581587                      NaN                           NaN   \n",
            "A563185                     NaN                           NaN   \n",
            "A563186                     NaN                           NaN   \n",
            "A563187                     NaN                           NaN   \n",
            "\n",
            "Description   I LOVE LONDON MINI RUCKSACK   NINE DRAWER OFFICE TIDY  \\\n",
            "InvoiceNo                                                             \n",
            "536365                                NaN                       NaN   \n",
            "536366                                NaN                       NaN   \n",
            "536367                                NaN                       NaN   \n",
            "536368                                NaN                       NaN   \n",
            "536369                                NaN                       NaN   \n",
            "...                                   ...                       ...   \n",
            "581586                                NaN                       NaN   \n",
            "581587                                NaN                       NaN   \n",
            "A563185                               NaN                       NaN   \n",
            "A563186                               NaN                       NaN   \n",
            "A563187                               NaN                       NaN   \n",
            "\n",
            "Description   OVAL WALL MIRROR DIAMANTE    RED SPOT GIFT BAG LARGE  \\\n",
            "InvoiceNo                                                            \n",
            "536365                               NaN                       NaN   \n",
            "536366                               NaN                       NaN   \n",
            "536367                               NaN                       NaN   \n",
            "536368                               NaN                       NaN   \n",
            "536369                               NaN                       NaN   \n",
            "...                                  ...                       ...   \n",
            "581586                               NaN                       NaN   \n",
            "581587                               NaN                       NaN   \n",
            "A563185                              NaN                       NaN   \n",
            "A563186                              NaN                       NaN   \n",
            "A563187                              NaN                       NaN   \n",
            "\n",
            "Description   SET 2 TEA TOWELS I LOVE LONDON    SPACEBOY BABY GIFT SET  ...  \\\n",
            "InvoiceNo                                                               ...   \n",
            "536365                                    NaN                      NaN  ...   \n",
            "536366                                    NaN                      NaN  ...   \n",
            "536367                                    NaN                      NaN  ...   \n",
            "536368                                    NaN                      NaN  ...   \n",
            "536369                                    NaN                      NaN  ...   \n",
            "...                                       ...                      ...  ...   \n",
            "581586                                    NaN                      NaN  ...   \n",
            "581587                                    NaN                      NaN  ...   \n",
            "A563185                                   NaN                      NaN  ...   \n",
            "A563186                                   NaN                      NaN  ...   \n",
            "A563187                                   NaN                      NaN  ...   \n",
            "\n",
            "Description  returned  taig adjust  test  to push order througha s stock was   \\\n",
            "InvoiceNo                                                                       \n",
            "536365            NaN          NaN   NaN                                  NaN   \n",
            "536366            NaN          NaN   NaN                                  NaN   \n",
            "536367            NaN          NaN   NaN                                  NaN   \n",
            "536368            NaN          NaN   NaN                                  NaN   \n",
            "536369            NaN          NaN   NaN                                  NaN   \n",
            "...               ...          ...   ...                                  ...   \n",
            "581586            NaN          NaN   NaN                                  NaN   \n",
            "581587            NaN          NaN   NaN                                  NaN   \n",
            "A563185           NaN          NaN   NaN                                  NaN   \n",
            "A563186           NaN          NaN   NaN                                  NaN   \n",
            "A563187           NaN          NaN   NaN                                  NaN   \n",
            "\n",
            "Description  website fixed  wrongly coded 20713  wrongly coded 23343  \\\n",
            "InvoiceNo                                                              \n",
            "536365                 NaN                  NaN                  NaN   \n",
            "536366                 NaN                  NaN                  NaN   \n",
            "536367                 NaN                  NaN                  NaN   \n",
            "536368                 NaN                  NaN                  NaN   \n",
            "536369                 NaN                  NaN                  NaN   \n",
            "...                    ...                  ...                  ...   \n",
            "581586                 NaN                  NaN                  NaN   \n",
            "581587                 NaN                  NaN                  NaN   \n",
            "A563185                NaN                  NaN                  NaN   \n",
            "A563186                NaN                  NaN                  NaN   \n",
            "A563187                NaN                  NaN                  NaN   \n",
            "\n",
            "Description  wrongly marked  wrongly marked 23343  \\\n",
            "InvoiceNo                                           \n",
            "536365                  NaN                   NaN   \n",
            "536366                  NaN                   NaN   \n",
            "536367                  NaN                   NaN   \n",
            "536368                  NaN                   NaN   \n",
            "536369                  NaN                   NaN   \n",
            "...                     ...                   ...   \n",
            "581586                  NaN                   NaN   \n",
            "581587                  NaN                   NaN   \n",
            "A563185                 NaN                   NaN   \n",
            "A563186                 NaN                   NaN   \n",
            "A563187                 NaN                   NaN   \n",
            "\n",
            "Description  wrongly sold (22719) barcode  \n",
            "InvoiceNo                                  \n",
            "536365                                NaN  \n",
            "536366                                NaN  \n",
            "536367                                NaN  \n",
            "536368                                NaN  \n",
            "536369                                NaN  \n",
            "...                                   ...  \n",
            "581586                                NaN  \n",
            "581587                                NaN  \n",
            "A563185                               NaN  \n",
            "A563186                               NaN  \n",
            "A563187                               NaN  \n",
            "\n",
            "[20136 rows x 4077 columns]\n"
          ]
        }
      ]
    },
    {
      "cell_type": "code",
      "source": [
        "# 구매여부 1/0 값으로 변경\n",
        "df = df.applymap(lambda x: int(x>0))\n",
        "print(df)"
      ],
      "metadata": {
        "colab": {
          "base_uri": "https://localhost:8080/"
        },
        "id": "irIqidGoOhct",
        "outputId": "ee90edc7-51f5-47a3-ee6e-8fc1f18ed46b"
      },
      "execution_count": null,
      "outputs": [
        {
          "output_type": "stream",
          "name": "stdout",
          "text": [
            "Description   4 PURPLE FLOCK DINNER CANDLES   50'S CHRISTMAS GIFT BAG LARGE  \\\n",
            "InvoiceNo                                                                     \n",
            "536365                                    0                               0   \n",
            "536366                                    0                               0   \n",
            "536367                                    0                               0   \n",
            "536368                                    0                               0   \n",
            "536369                                    0                               0   \n",
            "...                                     ...                             ...   \n",
            "581586                                    0                               0   \n",
            "581587                                    0                               0   \n",
            "A563185                                   0                               0   \n",
            "A563186                                   0                               0   \n",
            "A563187                                   0                               0   \n",
            "\n",
            "Description   DOLLY GIRL BEAKER   I LOVE LONDON MINI BACKPACK  \\\n",
            "InvoiceNo                                                       \n",
            "536365                        0                             0   \n",
            "536366                        0                             0   \n",
            "536367                        0                             0   \n",
            "536368                        0                             0   \n",
            "536369                        0                             0   \n",
            "...                         ...                           ...   \n",
            "581586                        0                             0   \n",
            "581587                        0                             0   \n",
            "A563185                       0                             0   \n",
            "A563186                       0                             0   \n",
            "A563187                       0                             0   \n",
            "\n",
            "Description   I LOVE LONDON MINI RUCKSACK   NINE DRAWER OFFICE TIDY  \\\n",
            "InvoiceNo                                                             \n",
            "536365                                  0                         0   \n",
            "536366                                  0                         0   \n",
            "536367                                  0                         0   \n",
            "536368                                  0                         0   \n",
            "536369                                  0                         0   \n",
            "...                                   ...                       ...   \n",
            "581586                                  0                         0   \n",
            "581587                                  0                         0   \n",
            "A563185                                 0                         0   \n",
            "A563186                                 0                         0   \n",
            "A563187                                 0                         0   \n",
            "\n",
            "Description   OVAL WALL MIRROR DIAMANTE    RED SPOT GIFT BAG LARGE  \\\n",
            "InvoiceNo                                                            \n",
            "536365                                 0                         0   \n",
            "536366                                 0                         0   \n",
            "536367                                 0                         0   \n",
            "536368                                 0                         0   \n",
            "536369                                 0                         0   \n",
            "...                                  ...                       ...   \n",
            "581586                                 0                         0   \n",
            "581587                                 0                         0   \n",
            "A563185                                0                         0   \n",
            "A563186                                0                         0   \n",
            "A563187                                0                         0   \n",
            "\n",
            "Description   SET 2 TEA TOWELS I LOVE LONDON    SPACEBOY BABY GIFT SET  ...  \\\n",
            "InvoiceNo                                                               ...   \n",
            "536365                                      0                        0  ...   \n",
            "536366                                      0                        0  ...   \n",
            "536367                                      0                        0  ...   \n",
            "536368                                      0                        0  ...   \n",
            "536369                                      0                        0  ...   \n",
            "...                                       ...                      ...  ...   \n",
            "581586                                      0                        0  ...   \n",
            "581587                                      0                        0  ...   \n",
            "A563185                                     0                        0  ...   \n",
            "A563186                                     0                        0  ...   \n",
            "A563187                                     0                        0  ...   \n",
            "\n",
            "Description  returned  taig adjust  test  to push order througha s stock was   \\\n",
            "InvoiceNo                                                                       \n",
            "536365              0            0     0                                    0   \n",
            "536366              0            0     0                                    0   \n",
            "536367              0            0     0                                    0   \n",
            "536368              0            0     0                                    0   \n",
            "536369              0            0     0                                    0   \n",
            "...               ...          ...   ...                                  ...   \n",
            "581586              0            0     0                                    0   \n",
            "581587              0            0     0                                    0   \n",
            "A563185             0            0     0                                    0   \n",
            "A563186             0            0     0                                    0   \n",
            "A563187             0            0     0                                    0   \n",
            "\n",
            "Description  website fixed  wrongly coded 20713  wrongly coded 23343  \\\n",
            "InvoiceNo                                                              \n",
            "536365                   0                    0                    0   \n",
            "536366                   0                    0                    0   \n",
            "536367                   0                    0                    0   \n",
            "536368                   0                    0                    0   \n",
            "536369                   0                    0                    0   \n",
            "...                    ...                  ...                  ...   \n",
            "581586                   0                    0                    0   \n",
            "581587                   0                    0                    0   \n",
            "A563185                  0                    0                    0   \n",
            "A563186                  0                    0                    0   \n",
            "A563187                  0                    0                    0   \n",
            "\n",
            "Description  wrongly marked  wrongly marked 23343  \\\n",
            "InvoiceNo                                           \n",
            "536365                    0                     0   \n",
            "536366                    0                     0   \n",
            "536367                    0                     0   \n",
            "536368                    0                     0   \n",
            "536369                    0                     0   \n",
            "...                     ...                   ...   \n",
            "581586                    0                     0   \n",
            "581587                    0                     0   \n",
            "A563185                   0                     0   \n",
            "A563186                   0                     0   \n",
            "A563187                   0                     0   \n",
            "\n",
            "Description  wrongly sold (22719) barcode  \n",
            "InvoiceNo                                  \n",
            "536365                                  0  \n",
            "536366                                  0  \n",
            "536367                                  0  \n",
            "536368                                  0  \n",
            "536369                                  0  \n",
            "...                                   ...  \n",
            "581586                                  0  \n",
            "581587                                  0  \n",
            "A563185                                 0  \n",
            "A563186                                 0  \n",
            "A563187                                 0  \n",
            "\n",
            "[20136 rows x 4077 columns]\n"
          ]
        }
      ]
    },
    {
      "cell_type": "code",
      "source": [
        "# 아이템별 빈도 및 항목명 설정(Frequency)\n",
        "freq = df.sum(axis=0).to_frame('Frequency')\n",
        "# 빈도수 내림차순 정렬\n",
        "freq_sort = freq.sort_values('Frequency', ascending=False)\n",
        "print(freq_sort)"
      ],
      "metadata": {
        "colab": {
          "base_uri": "https://localhost:8080/"
        },
        "id": "LvkL8KI6QCSH",
        "outputId": "7567271e-67cf-4612-c154-7295bc59917c"
      },
      "execution_count": null,
      "outputs": [
        {
          "output_type": "stream",
          "name": "stdout",
          "text": [
            "                                     Frequency\n",
            "Description                                   \n",
            "WHITE HANGING HEART T-LIGHT HOLDER        2260\n",
            "JUMBO BAG RED RETROSPOT                   2092\n",
            "REGENCY CAKESTAND 3 TIER                  1989\n",
            "PARTY BUNTING                             1686\n",
            "LUNCH BAG RED RETROSPOT                   1564\n",
            "...                                        ...\n",
            "DOORKNOB CERAMIC IVORY                       1\n",
            "SET/4 2 TONE EGG SHAPE MIXING BOWLS          1\n",
            "DUSTY PINK CHRISTMAS TREE 30CM               1\n",
            "Dotcomgiftshop Gift Voucher £100.00          1\n",
            "wrongly sold (22719) barcode                 1\n",
            "\n",
            "[4077 rows x 1 columns]\n"
          ]
        }
      ]
    },
    {
      "cell_type": "markdown",
      "source": [
        "#### 최소지지도 설정\n",
        "\n",
        "상품별 지지도를 계산하고 히스토그램으로 시각화해 분포 파악 후 최소 지지도 설정"
      ],
      "metadata": {
        "id": "ZcRdexjPRG7U"
      }
    },
    {
      "cell_type": "code",
      "source": [
        "# 단일 아이템의 지지도\n",
        "freq_sort['Support'] = freq_sort['Frequency'] / len(freq_sort)\n",
        "print(freq_sort)"
      ],
      "metadata": {
        "colab": {
          "base_uri": "https://localhost:8080/"
        },
        "id": "A3XM5izxRAdO",
        "outputId": "ad31d57e-70be-47df-f247-54c4cc017956"
      },
      "execution_count": null,
      "outputs": [
        {
          "output_type": "stream",
          "name": "stdout",
          "text": [
            "                                     Frequency   Support\n",
            "Description                                             \n",
            "WHITE HANGING HEART T-LIGHT HOLDER        2260  0.554329\n",
            "JUMBO BAG RED RETROSPOT                   2092  0.513122\n",
            "REGENCY CAKESTAND 3 TIER                  1989  0.487859\n",
            "PARTY BUNTING                             1686  0.413539\n",
            "LUNCH BAG RED RETROSPOT                   1564  0.383615\n",
            "...                                        ...       ...\n",
            "DOORKNOB CERAMIC IVORY                       1  0.000245\n",
            "SET/4 2 TONE EGG SHAPE MIXING BOWLS          1  0.000245\n",
            "DUSTY PINK CHRISTMAS TREE 30CM               1  0.000245\n",
            "Dotcomgiftshop Gift Voucher £100.00          1  0.000245\n",
            "wrongly sold (22719) barcode                 1  0.000245\n",
            "\n",
            "[4077 rows x 2 columns]\n"
          ]
        }
      ]
    },
    {
      "cell_type": "code",
      "source": [
        "# 단일 아이템 지지도 분포 시각화\n",
        "freq_sort['Support'].hist()"
      ],
      "metadata": {
        "colab": {
          "base_uri": "https://localhost:8080/",
          "height": 284
        },
        "id": "58h5o4p7RcnW",
        "outputId": "aafd1e11-8d29-4e1b-ed0f-5289d4a24954"
      },
      "execution_count": null,
      "outputs": [
        {
          "output_type": "execute_result",
          "data": {
            "text/plain": [
              "<Axes: >"
            ]
          },
          "metadata": {},
          "execution_count": 75
        },
        {
          "output_type": "display_data",
          "data": {
            "text/plain": [
              "<Figure size 432x288 with 1 Axes>"
            ],
            "image/png": "[encoded data removed]"
          },
          "metadata": {
            "needs_background": "light"
          }
        }
      ]
    },
    {
      "cell_type": "markdown",
      "source": [
        "### 연관규칙 생성\n",
        "\n",
        "위 히스토그램을 통해 최소 지지도를 0.01로 설정하자."
      ],
      "metadata": {
        "id": "6F1mjbPiI9fo"
      }
    },
    {
      "cell_type": "code",
      "source": [
        "# 최소 지지도 설정 및 연관규칙 생성\n",
        "min_support = 0.01\n",
        "freq_items = apriori(df, min_support=min_support, use_colnames=True)\n",
        "print(freq_items)"
      ],
      "metadata": {
        "colab": {
          "base_uri": "https://localhost:8080/"
        },
        "id": "_Rzjx34sR_oK",
        "outputId": "1773b358-df85-43d3-836c-3b30bd6ad165"
      },
      "execution_count": null,
      "outputs": [
        {
          "output_type": "stream",
          "name": "stdout",
          "text": [
            "       support                                           itemsets\n",
            "0     0.013359                 ( SET 2 TEA TOWELS I LOVE LONDON )\n",
            "1     0.015793                           (10 COLOUR SPACEBOY PEN)\n",
            "2     0.012465                  (12 MESSAGE CARDS WITH ENVELOPES)\n",
            "3     0.017630                    (12 PENCIL SMALL TUBE WOODLAND)\n",
            "4     0.017978              (12 PENCILS SMALL TUBE RED RETROSPOT)\n",
            "...        ...                                                ...\n",
            "1849  0.011025  (JUMBO STORAGE BAG SUKI, JUMBO BAG WOODLAND AN...\n",
            "1850  0.011174  (LUNCH BAG CARS BLUE, LUNCH BAG  BLACK SKULL.,...\n",
            "1851  0.010280  (LUNCH BAG CARS BLUE, LUNCH BAG SUKI DESIGN , ...\n",
            "1852  0.010181  (LUNCH BAG SUKI DESIGN , LUNCH BAG  BLACK SKUL...\n",
            "1853  0.010131  (CHARLOTTE BAG PINK POLKADOT, STRAWBERRY CHARL...\n",
            "\n",
            "[1854 rows x 2 columns]\n"
          ]
        }
      ]
    },
    {
      "cell_type": "code",
      "source": [
        "# 최소 신뢰도 60%를 기준으로 연관규칙 생성\n",
        "min_confidence = 0.6\n",
        "rules = association_rules(freq_items, metric='confidence', min_threshold=min_confidence)\n",
        "print(rules)"
      ],
      "metadata": {
        "colab": {
          "base_uri": "https://localhost:8080/"
        },
        "id": "nLSowQbkTIAY",
        "outputId": "7ee3f40a-ea79-4d59-a93c-fb20f6b2383b"
      },
      "execution_count": null,
      "outputs": [
        {
          "output_type": "stream",
          "name": "stdout",
          "text": [
            "                                           antecedents  \\\n",
            "0                     (ALARM CLOCK BAKELIKE CHOCOLATE)   \n",
            "1                     (ALARM CLOCK BAKELIKE CHOCOLATE)   \n",
            "2                        (ALARM CLOCK BAKELIKE ORANGE)   \n",
            "3                          (ALARM CLOCK BAKELIKE RED )   \n",
            "4                         (ALARM CLOCK BAKELIKE GREEN)   \n",
            "..                                                 ...   \n",
            "493  (RED RETROSPOT CHARLOTTE BAG, CHARLOTTE BAG SU...   \n",
            "494  (STRAWBERRY CHARLOTTE BAG, CHARLOTTE BAG SUKI ...   \n",
            "495  (STRAWBERRY CHARLOTTE BAG, RED RETROSPOT CHARL...   \n",
            "496  (STRAWBERRY CHARLOTTE BAG, CHARLOTTE BAG SUKI ...   \n",
            "497  (RED RETROSPOT CHARLOTTE BAG, CHARLOTTE BAG SU...   \n",
            "\n",
            "                                           consequents  antecedent support  \\\n",
            "0                         (ALARM CLOCK BAKELIKE GREEN)            0.021255   \n",
            "1                          (ALARM CLOCK BAKELIKE RED )            0.021255   \n",
            "2                         (ALARM CLOCK BAKELIKE GREEN)            0.022100   \n",
            "3                         (ALARM CLOCK BAKELIKE GREEN)            0.052195   \n",
            "4                          (ALARM CLOCK BAKELIKE RED )            0.048669   \n",
            "..                                                 ...                 ...   \n",
            "493  (STRAWBERRY CHARLOTTE BAG, WOODLAND CHARLOTTE ...            0.016339   \n",
            "494  (RED RETROSPOT CHARLOTTE BAG, CHARLOTTE BAG PI...            0.015048   \n",
            "495  (CHARLOTTE BAG SUKI DESIGN, CHARLOTTE BAG PINK...            0.016240   \n",
            "496  (WOODLAND CHARLOTTE BAG, CHARLOTTE BAG PINK PO...            0.016587   \n",
            "497  (STRAWBERRY CHARLOTTE BAG, CHARLOTTE BAG PINK ...            0.016687   \n",
            "\n",
            "     consequent support   support  confidence       lift  leverage  conviction  \n",
            "0              0.048669  0.013756    0.647196  13.297902  0.012722    2.696488  \n",
            "1              0.052195  0.014501    0.682243  13.071023  0.013392    2.982798  \n",
            "2              0.048669  0.013558    0.613483  12.605201  0.012482    2.461292  \n",
            "3              0.048669  0.031784    0.608944  12.511932  0.029244    2.432722  \n",
            "4              0.052195  0.031784    0.653061  12.511932  0.029244    2.731908  \n",
            "..                  ...       ...         ...        ...       ...         ...  \n",
            "493            0.020163  0.010131    0.620061  30.752572  0.009802    2.578931  \n",
            "494            0.025924  0.010131    0.673267  25.971094  0.009741    2.981264  \n",
            "495            0.020362  0.010131    0.623853  30.638801  0.009800    2.604405  \n",
            "496            0.019617  0.010131    0.610778  31.135784  0.009806    2.518831  \n",
            "497            0.018822  0.010131    0.607143  32.257067  0.009817    2.497544  \n",
            "\n",
            "[498 rows x 9 columns]\n"
          ]
        }
      ]
    },
    {
      "cell_type": "code",
      "source": [
        "# 리프트가 1보다 큰 양의 상관관계를 만족하는 연관규칙 추출\n",
        "rules = rules[rules['lift'] > 1]\n",
        "rules.sort_values(by='confidence', ascending=False)"
      ],
      "metadata": {
        "colab": {
          "base_uri": "https://localhost:8080/",
          "height": 763
        },
        "id": "lUJ8gnsRTorU",
        "outputId": "a97e0888-0be2-43f3-a827-477109f7e74d"
      },
      "execution_count": null,
      "outputs": [
        {
          "output_type": "execute_result",
          "data": {
            "text/plain": [
              "                                           antecedents  \\\n",
              "194       (SUKI  SHOULDER BAG, JAM MAKING SET PRINTED)   \n",
              "242           (HERB MARKER THYME, HERB MARKER PARSLEY)   \n",
              "404  (REGENCY TEA PLATE PINK, REGENCY TEA PLATE ROS...   \n",
              "243        (HERB MARKER ROSEMARY, HERB MARKER PARSLEY)   \n",
              "56                                 (HERB MARKER THYME)   \n",
              "..                                                 ...   \n",
              "254             (JUMBO BAG APPLES, JUMBO BAG ALPHABET)   \n",
              "373      (LUNCH BAG PINK POLKADOT, LUNCH BAG WOODLAND)   \n",
              "81                         (POPPY'S PLAYHOUSE KITCHEN)   \n",
              "7                          (ALARM CLOCK BAKELIKE PINK)   \n",
              "292  (JUMBO STORAGE BAG SUKI, JUMBO BAG PINK POLKADOT)   \n",
              "\n",
              "                             consequents  antecedent support  \\\n",
              "194                     (DOTCOM POSTAGE)            0.010826   \n",
              "242               (HERB MARKER ROSEMARY)            0.010578   \n",
              "404           (REGENCY TEA PLATE GREEN )            0.013359   \n",
              "243                  (HERB MARKER THYME)            0.010677   \n",
              "56                (HERB MARKER ROSEMARY)            0.011770   \n",
              "..                                   ...                 ...   \n",
              "254            (JUMBO BAG RED RETROSPOT)            0.019418   \n",
              "373                (LUNCH BAG CARS BLUE)            0.019666   \n",
              "81       (POPPY'S PLAYHOUSE LIVINGROOM )            0.021653   \n",
              "7            (ALARM CLOCK BAKELIKE RED )            0.038886   \n",
              "292  (JUMBO SHOPPER VINTAGE RED PAISLEY)            0.025576   \n",
              "\n",
              "     consequent support   support  confidence       lift  leverage  conviction  \n",
              "194            0.035161  0.010379    0.958716  27.266522  0.009999   23.370547  \n",
              "242            0.011919  0.010081    0.953052  79.961033  0.009955   21.046126  \n",
              "404            0.018921  0.012664    0.947955  50.099816  0.012411   18.850726  \n",
              "243            0.011770  0.010081    0.944186  80.219959  0.009956   17.705788  \n",
              "56             0.011919  0.010975    0.932489  78.235865  0.010835   14.635951  \n",
              "..                  ...       ...         ...        ...       ...         ...  \n",
              "254            0.103894  0.011671    0.601023   5.784990  0.009653    2.246010  \n",
              "373            0.057112  0.011820    0.601010  10.523426  0.010696    2.363189  \n",
              "81             0.016289  0.013012    0.600917  36.890468  0.012659    2.464930  \n",
              "7              0.052195  0.023341    0.600255  11.500231  0.021312    2.371026  \n",
              "292            0.058353  0.015346    0.600000  10.282213  0.013853    2.354117  \n",
              "\n",
              "[498 rows x 9 columns]"
            ],
            "text/html": [
              "\n",
              "  <div id=\"df-1cbffa99-1631-4b48-b219-6f317bec0d2e\">\n",
              "    <div class=\"colab-df-container\">\n",
              "      <div>\n",
              "<style scoped>\n",
              "    .dataframe tbody tr th:only-of-type {\n",
              "        vertical-align: middle;\n",
              "    }\n",
              "\n",
              "    .dataframe tbody tr th {\n",
              "        vertical-align: top;\n",
              "    }\n",
              "\n",
              "    .dataframe thead th {\n",
              "        text-align: right;\n",
              "    }\n",
              "</style>\n",
              "<table border=\"1\" class=\"dataframe\">\n",
              "  <thead>\n",
              "    <tr style=\"text-align: right;\">\n",
              "      <th></th>\n",
              "      <th>antecedents</th>\n",
              "      <th>consequents</th>\n",
              "      <th>antecedent support</th>\n",
              "      <th>consequent support</th>\n",
              "      <th>support</th>\n",
              "      <th>confidence</th>\n",
              "      <th>lift</th>\n",
              "      <th>leverage</th>\n",
              "      <th>conviction</th>\n",
              "    </tr>\n",
              "  </thead>\n",
              "  <tbody>\n",
              "    <tr>\n",
              "      <th>194</th>\n",
              "      <td>(SUKI  SHOULDER BAG, JAM MAKING SET PRINTED)</td>\n",
              "      <td>(DOTCOM POSTAGE)</td>\n",
              "      <td>0.010826</td>\n",
              "      <td>0.035161</td>\n",
              "      <td>0.010379</td>\n",
              "      <td>0.958716</td>\n",
              "      <td>27.266522</td>\n",
              "      <td>0.009999</td>\n",
              "      <td>23.370547</td>\n",
              "    </tr>\n",
              "    <tr>\n",
              "      <th>242</th>\n",
              "      <td>(HERB MARKER THYME, HERB MARKER PARSLEY)</td>\n",
              "      <td>(HERB MARKER ROSEMARY)</td>\n",
              "      <td>0.010578</td>\n",
              "      <td>0.011919</td>\n",
              "      <td>0.010081</td>\n",
              "      <td>0.953052</td>\n",
              "      <td>79.961033</td>\n",
              "      <td>0.009955</td>\n",
              "      <td>21.046126</td>\n",
              "    </tr>\n",
              "    <tr>\n",
              "      <th>404</th>\n",
              "      <td>(REGENCY TEA PLATE PINK, REGENCY TEA PLATE ROS...</td>\n",
              "      <td>(REGENCY TEA PLATE GREEN )</td>\n",
              "      <td>0.013359</td>\n",
              "      <td>0.018921</td>\n",
              "      <td>0.012664</td>\n",
              "      <td>0.947955</td>\n",
              "      <td>50.099816</td>\n",
              "      <td>0.012411</td>\n",
              "      <td>18.850726</td>\n",
              "    </tr>\n",
              "    <tr>\n",
              "      <th>243</th>\n",
              "      <td>(HERB MARKER ROSEMARY, HERB MARKER PARSLEY)</td>\n",
              "      <td>(HERB MARKER THYME)</td>\n",
              "      <td>0.010677</td>\n",
              "      <td>0.011770</td>\n",
              "      <td>0.010081</td>\n",
              "      <td>0.944186</td>\n",
              "      <td>80.219959</td>\n",
              "      <td>0.009956</td>\n",
              "      <td>17.705788</td>\n",
              "    </tr>\n",
              "    <tr>\n",
              "      <th>56</th>\n",
              "      <td>(HERB MARKER THYME)</td>\n",
              "      <td>(HERB MARKER ROSEMARY)</td>\n",
              "      <td>0.011770</td>\n",
              "      <td>0.011919</td>\n",
              "      <td>0.010975</td>\n",
              "      <td>0.932489</td>\n",
              "      <td>78.235865</td>\n",
              "      <td>0.010835</td>\n",
              "      <td>14.635951</td>\n",
              "    </tr>\n",
              "    <tr>\n",
              "      <th>...</th>\n",
              "      <td>...</td>\n",
              "      <td>...</td>\n",
              "      <td>...</td>\n",
              "      <td>...</td>\n",
              "      <td>...</td>\n",
              "      <td>...</td>\n",
              "      <td>...</td>\n",
              "      <td>...</td>\n",
              "      <td>...</td>\n",
              "    </tr>\n",
              "    <tr>\n",
              "      <th>254</th>\n",
              "      <td>(JUMBO BAG APPLES, JUMBO BAG ALPHABET)</td>\n",
              "      <td>(JUMBO BAG RED RETROSPOT)</td>\n",
              "      <td>0.019418</td>\n",
              "      <td>0.103894</td>\n",
              "      <td>0.011671</td>\n",
              "      <td>0.601023</td>\n",
              "      <td>5.784990</td>\n",
              "      <td>0.009653</td>\n",
              "      <td>2.246010</td>\n",
              "    </tr>\n",
              "    <tr>\n",
              "      <th>373</th>\n",
              "      <td>(LUNCH BAG PINK POLKADOT, LUNCH BAG WOODLAND)</td>\n",
              "      <td>(LUNCH BAG CARS BLUE)</td>\n",
              "      <td>0.019666</td>\n",
              "      <td>0.057112</td>\n",
              "      <td>0.011820</td>\n",
              "      <td>0.601010</td>\n",
              "      <td>10.523426</td>\n",
              "      <td>0.010696</td>\n",
              "      <td>2.363189</td>\n",
              "    </tr>\n",
              "    <tr>\n",
              "      <th>81</th>\n",
              "      <td>(POPPY'S PLAYHOUSE KITCHEN)</td>\n",
              "      <td>(POPPY'S PLAYHOUSE LIVINGROOM )</td>\n",
              "      <td>0.021653</td>\n",
              "      <td>0.016289</td>\n",
              "      <td>0.013012</td>\n",
              "      <td>0.600917</td>\n",
              "      <td>36.890468</td>\n",
              "      <td>0.012659</td>\n",
              "      <td>2.464930</td>\n",
              "    </tr>\n",
              "    <tr>\n",
              "      <th>7</th>\n",
              "      <td>(ALARM CLOCK BAKELIKE PINK)</td>\n",
              "      <td>(ALARM CLOCK BAKELIKE RED )</td>\n",
              "      <td>0.038886</td>\n",
              "      <td>0.052195</td>\n",
              "      <td>0.023341</td>\n",
              "      <td>0.600255</td>\n",
              "      <td>11.500231</td>\n",
              "      <td>0.021312</td>\n",
              "      <td>2.371026</td>\n",
              "    </tr>\n",
              "    <tr>\n",
              "      <th>292</th>\n",
              "      <td>(JUMBO STORAGE BAG SUKI, JUMBO BAG PINK POLKADOT)</td>\n",
              "      <td>(JUMBO SHOPPER VINTAGE RED PAISLEY)</td>\n",
              "      <td>0.025576</td>\n",
              "      <td>0.058353</td>\n",
              "      <td>0.015346</td>\n",
              "      <td>0.600000</td>\n",
              "      <td>10.282213</td>\n",
              "      <td>0.013853</td>\n",
              "      <td>2.354117</td>\n",
              "    </tr>\n",
              "  </tbody>\n",
              "</table>\n",
              "<p>498 rows × 9 columns</p>\n",
              "</div>\n",
              "      <button class=\"colab-df-convert\" onclick=\"convertToInteractive('df-1cbffa99-1631-4b48-b219-6f317bec0d2e')\"\n",
              "              title=\"Convert this dataframe to an interactive table.\"\n",
              "              style=\"display:none;\">\n",
              "        \n",
              "  <svg xmlns=\"http://www.w3.org/2000/svg\" height=\"24px\"viewBox=\"0 0 24 24\"\n",
              "       width=\"24px\">\n",
              "    <path d=\"M0 0h24v24H0V0z\" fill=\"none\"/>\n",
              "    <path d=\"M18.56 5.44l.94 2.06.94-2.06 2.06-.94-2.06-.94-.94-2.06-.94 2.06-2.06.94zm-11 1L8.5 8.5l.94-2.06 2.06-.94-2.06-.94L8.5 2.5l-.94 2.06-2.06.94zm10 10l.94 2.06.94-2.06 2.06-.94-2.06-.94-.94-2.06-.94 2.06-2.06.94z\"/><path d=\"M17.41 7.96l-1.37-1.37c-.4-.4-.92-.59-1.43-.59-.52 0-1.04.2-1.43.59L10.3 9.45l-7.72 7.72c-.78.78-.78 2.05 0 2.83L4 21.41c.39.39.9.59 1.41.59.51 0 1.02-.2 1.41-.59l7.78-7.78 2.81-2.81c.8-.78.8-2.07 0-2.86zM5.41 20L4 18.59l7.72-7.72 1.47 1.35L5.41 20z\"/>\n",
              "  </svg>\n",
              "      </button>\n",
              "      \n",
              "  <style>\n",
              "    .colab-df-container {\n",
              "      display:flex;\n",
              "      flex-wrap:wrap;\n",
              "      gap: 12px;\n",
              "    }\n",
              "\n",
              "    .colab-df-convert {\n",
              "      background-color: #E8F0FE;\n",
              "      border: none;\n",
              "      border-radius: 50%;\n",
              "      cursor: pointer;\n",
              "      display: none;\n",
              "      fill: #1967D2;\n",
              "      height: 32px;\n",
              "      padding: 0 0 0 0;\n",
              "      width: 32px;\n",
              "    }\n",
              "\n",
              "    .colab-df-convert:hover {\n",
              "      background-color: #E2EBFA;\n",
              "      box-shadow: 0px 1px 2px rgba(60, 64, 67, 0.3), 0px 1px 3px 1px rgba(60, 64, 67, 0.15);\n",
              "      fill: #174EA6;\n",
              "    }\n",
              "\n",
              "    [theme=dark] .colab-df-convert {\n",
              "      background-color: #3B4455;\n",
              "      fill: #D2E3FC;\n",
              "    }\n",
              "\n",
              "    [theme=dark] .colab-df-convert:hover {\n",
              "      background-color: #434B5C;\n",
              "      box-shadow: 0px 1px 3px 1px rgba(0, 0, 0, 0.15);\n",
              "      filter: drop-shadow(0px 1px 2px rgba(0, 0, 0, 0.3));\n",
              "      fill: #FFFFFF;\n",
              "    }\n",
              "  </style>\n",
              "\n",
              "      <script>\n",
              "        const buttonEl =\n",
              "          document.querySelector('#df-1cbffa99-1631-4b48-b219-6f317bec0d2e button.colab-df-convert');\n",
              "        buttonEl.style.display =\n",
              "          google.colab.kernel.accessAllowed ? 'block' : 'none';\n",
              "\n",
              "        async function convertToInteractive(key) {\n",
              "          const element = document.querySelector('#df-1cbffa99-1631-4b48-b219-6f317bec0d2e');\n",
              "          const dataTable =\n",
              "            await google.colab.kernel.invokeFunction('convertToInteractive',\n",
              "                                                     [key], {});\n",
              "          if (!dataTable) return;\n",
              "\n",
              "          const docLinkHtml = 'Like what you see? Visit the ' +\n",
              "            '<a target=\"_blank\" href=https://colab.research.google.com/notebooks/data_table.ipynb>data table notebook</a>'\n",
              "            + ' to learn more about interactive tables.';\n",
              "          element.innerHTML = '';\n",
              "          dataTable['output_type'] = 'display_data';\n",
              "          await google.colab.output.renderOutput(dataTable, element);\n",
              "          const docLink = document.createElement('div');\n",
              "          docLink.innerHTML = docLinkHtml;\n",
              "          element.appendChild(docLink);\n",
              "        }\n",
              "      </script>\n",
              "    </div>\n",
              "  </div>\n",
              "  "
            ]
          },
          "metadata": {},
          "execution_count": 82
        }
      ]
    },
    {
      "cell_type": "markdown",
      "source": [
        "### 결과 분석\n",
        "\n",
        "498개의 연관규칙이 생성되었다. 특정 항목을 조건부와 결론부에 폼함하는 규칙들을 살펴보자."
      ],
      "metadata": {
        "id": "qB8RkNS-I_p5"
      }
    },
    {
      "cell_type": "markdown",
      "source": [
        "1. `REGENCY TEA PLATE PINK`를 구매한 거래중 91%에는 `REGENCY TEA PLATE GREEN`도 포함되어있다(`confidence`).  \n",
        "`REGENCY TEA PLATE GREEN`는 전체 거래중 1.8%의 거래에 포함되는 것을 생각하면 굉장히 큰 영향이 있는 것을 알 수 있다. 이러한 양의 상관정도는 `lift`값 48이 표현하고 있다.\n",
        "\n",
        "2. `REGENCY TEA PLATE GREEN`, `REGENCY TEA PLATE ROSES`등이 \n",
        "`REGENCY TEA PLATE PINK`의 구매에 영향을 미쳤다. "
      ],
      "metadata": {
        "id": "TXEyFf5tUyp6"
      }
    },
    {
      "cell_type": "code",
      "source": [
        "# 1. 조건부에 'REGENCY TEA PLATE PINK'가 있는 규칙\n",
        "rules[rules.antecedents.apply(lambda x:'REGENCY TEA PLATE PINK' in x)]"
      ],
      "metadata": {
        "colab": {
          "base_uri": "https://localhost:8080/",
          "height": 406
        },
        "id": "CikYMlAjR-yT",
        "outputId": "acd9849c-94cf-4a8f-e6fe-aaa8f01fee0d"
      },
      "execution_count": null,
      "outputs": [
        {
          "output_type": "execute_result",
          "data": {
            "text/plain": [
              "                                           antecedents  \\\n",
              "90                            (REGENCY TEA PLATE PINK)   \n",
              "94                            (REGENCY TEA PLATE PINK)   \n",
              "403  (REGENCY TEA PLATE PINK, REGENCY TEA PLATE GRE...   \n",
              "404  (REGENCY TEA PLATE PINK, REGENCY TEA PLATE ROS...   \n",
              "406                           (REGENCY TEA PLATE PINK)   \n",
              "\n",
              "                                           consequents  antecedent support  \\\n",
              "90                          (REGENCY TEA PLATE GREEN )            0.015147   \n",
              "94                          (REGENCY TEA PLATE ROSES )            0.015147   \n",
              "403                         (REGENCY TEA PLATE ROSES )            0.013806   \n",
              "404                         (REGENCY TEA PLATE GREEN )            0.013359   \n",
              "406  (REGENCY TEA PLATE GREEN , REGENCY TEA PLATE R...            0.015147   \n",
              "\n",
              "     consequent support   support  confidence       lift  leverage  conviction  \n",
              "90             0.018921  0.013806    0.911475  48.171834  0.013520   11.082555  \n",
              "94             0.022100  0.013359    0.881967  39.908521  0.013024    8.284988  \n",
              "403            0.022100  0.012664    0.917266  41.505780  0.012359   11.819838  \n",
              "404            0.018921  0.012664    0.947955  50.099816  0.012411   18.850726  \n",
              "406            0.015842  0.012664    0.836066  52.774346  0.012424    6.003362  "
            ],
            "text/html": [
              "\n",
              "  <div id=\"df-7420fffb-a439-413d-9213-df980565e090\">\n",
              "    <div class=\"colab-df-container\">\n",
              "      <div>\n",
              "<style scoped>\n",
              "    .dataframe tbody tr th:only-of-type {\n",
              "        vertical-align: middle;\n",
              "    }\n",
              "\n",
              "    .dataframe tbody tr th {\n",
              "        vertical-align: top;\n",
              "    }\n",
              "\n",
              "    .dataframe thead th {\n",
              "        text-align: right;\n",
              "    }\n",
              "</style>\n",
              "<table border=\"1\" class=\"dataframe\">\n",
              "  <thead>\n",
              "    <tr style=\"text-align: right;\">\n",
              "      <th></th>\n",
              "      <th>antecedents</th>\n",
              "      <th>consequents</th>\n",
              "      <th>antecedent support</th>\n",
              "      <th>consequent support</th>\n",
              "      <th>support</th>\n",
              "      <th>confidence</th>\n",
              "      <th>lift</th>\n",
              "      <th>leverage</th>\n",
              "      <th>conviction</th>\n",
              "    </tr>\n",
              "  </thead>\n",
              "  <tbody>\n",
              "    <tr>\n",
              "      <th>90</th>\n",
              "      <td>(REGENCY TEA PLATE PINK)</td>\n",
              "      <td>(REGENCY TEA PLATE GREEN )</td>\n",
              "      <td>0.015147</td>\n",
              "      <td>0.018921</td>\n",
              "      <td>0.013806</td>\n",
              "      <td>0.911475</td>\n",
              "      <td>48.171834</td>\n",
              "      <td>0.013520</td>\n",
              "      <td>11.082555</td>\n",
              "    </tr>\n",
              "    <tr>\n",
              "      <th>94</th>\n",
              "      <td>(REGENCY TEA PLATE PINK)</td>\n",
              "      <td>(REGENCY TEA PLATE ROSES )</td>\n",
              "      <td>0.015147</td>\n",
              "      <td>0.022100</td>\n",
              "      <td>0.013359</td>\n",
              "      <td>0.881967</td>\n",
              "      <td>39.908521</td>\n",
              "      <td>0.013024</td>\n",
              "      <td>8.284988</td>\n",
              "    </tr>\n",
              "    <tr>\n",
              "      <th>403</th>\n",
              "      <td>(REGENCY TEA PLATE PINK, REGENCY TEA PLATE GRE...</td>\n",
              "      <td>(REGENCY TEA PLATE ROSES )</td>\n",
              "      <td>0.013806</td>\n",
              "      <td>0.022100</td>\n",
              "      <td>0.012664</td>\n",
              "      <td>0.917266</td>\n",
              "      <td>41.505780</td>\n",
              "      <td>0.012359</td>\n",
              "      <td>11.819838</td>\n",
              "    </tr>\n",
              "    <tr>\n",
              "      <th>404</th>\n",
              "      <td>(REGENCY TEA PLATE PINK, REGENCY TEA PLATE ROS...</td>\n",
              "      <td>(REGENCY TEA PLATE GREEN )</td>\n",
              "      <td>0.013359</td>\n",
              "      <td>0.018921</td>\n",
              "      <td>0.012664</td>\n",
              "      <td>0.947955</td>\n",
              "      <td>50.099816</td>\n",
              "      <td>0.012411</td>\n",
              "      <td>18.850726</td>\n",
              "    </tr>\n",
              "    <tr>\n",
              "      <th>406</th>\n",
              "      <td>(REGENCY TEA PLATE PINK)</td>\n",
              "      <td>(REGENCY TEA PLATE GREEN , REGENCY TEA PLATE R...</td>\n",
              "      <td>0.015147</td>\n",
              "      <td>0.015842</td>\n",
              "      <td>0.012664</td>\n",
              "      <td>0.836066</td>\n",
              "      <td>52.774346</td>\n",
              "      <td>0.012424</td>\n",
              "      <td>6.003362</td>\n",
              "    </tr>\n",
              "  </tbody>\n",
              "</table>\n",
              "</div>\n",
              "      <button class=\"colab-df-convert\" onclick=\"convertToInteractive('df-7420fffb-a439-413d-9213-df980565e090')\"\n",
              "              title=\"Convert this dataframe to an interactive table.\"\n",
              "              style=\"display:none;\">\n",
              "        \n",
              "  <svg xmlns=\"http://www.w3.org/2000/svg\" height=\"24px\"viewBox=\"0 0 24 24\"\n",
              "       width=\"24px\">\n",
              "    <path d=\"M0 0h24v24H0V0z\" fill=\"none\"/>\n",
              "    <path d=\"M18.56 5.44l.94 2.06.94-2.06 2.06-.94-2.06-.94-.94-2.06-.94 2.06-2.06.94zm-11 1L8.5 8.5l.94-2.06 2.06-.94-2.06-.94L8.5 2.5l-.94 2.06-2.06.94zm10 10l.94 2.06.94-2.06 2.06-.94-2.06-.94-.94-2.06-.94 2.06-2.06.94z\"/><path d=\"M17.41 7.96l-1.37-1.37c-.4-.4-.92-.59-1.43-.59-.52 0-1.04.2-1.43.59L10.3 9.45l-7.72 7.72c-.78.78-.78 2.05 0 2.83L4 21.41c.39.39.9.59 1.41.59.51 0 1.02-.2 1.41-.59l7.78-7.78 2.81-2.81c.8-.78.8-2.07 0-2.86zM5.41 20L4 18.59l7.72-7.72 1.47 1.35L5.41 20z\"/>\n",
              "  </svg>\n",
              "      </button>\n",
              "      \n",
              "  <style>\n",
              "    .colab-df-container {\n",
              "      display:flex;\n",
              "      flex-wrap:wrap;\n",
              "      gap: 12px;\n",
              "    }\n",
              "\n",
              "    .colab-df-convert {\n",
              "      background-color: #E8F0FE;\n",
              "      border: none;\n",
              "      border-radius: 50%;\n",
              "      cursor: pointer;\n",
              "      display: none;\n",
              "      fill: #1967D2;\n",
              "      height: 32px;\n",
              "      padding: 0 0 0 0;\n",
              "      width: 32px;\n",
              "    }\n",
              "\n",
              "    .colab-df-convert:hover {\n",
              "      background-color: #E2EBFA;\n",
              "      box-shadow: 0px 1px 2px rgba(60, 64, 67, 0.3), 0px 1px 3px 1px rgba(60, 64, 67, 0.15);\n",
              "      fill: #174EA6;\n",
              "    }\n",
              "\n",
              "    [theme=dark] .colab-df-convert {\n",
              "      background-color: #3B4455;\n",
              "      fill: #D2E3FC;\n",
              "    }\n",
              "\n",
              "    [theme=dark] .colab-df-convert:hover {\n",
              "      background-color: #434B5C;\n",
              "      box-shadow: 0px 1px 3px 1px rgba(0, 0, 0, 0.15);\n",
              "      filter: drop-shadow(0px 1px 2px rgba(0, 0, 0, 0.3));\n",
              "      fill: #FFFFFF;\n",
              "    }\n",
              "  </style>\n",
              "\n",
              "      <script>\n",
              "        const buttonEl =\n",
              "          document.querySelector('#df-7420fffb-a439-413d-9213-df980565e090 button.colab-df-convert');\n",
              "        buttonEl.style.display =\n",
              "          google.colab.kernel.accessAllowed ? 'block' : 'none';\n",
              "\n",
              "        async function convertToInteractive(key) {\n",
              "          const element = document.querySelector('#df-7420fffb-a439-413d-9213-df980565e090');\n",
              "          const dataTable =\n",
              "            await google.colab.kernel.invokeFunction('convertToInteractive',\n",
              "                                                     [key], {});\n",
              "          if (!dataTable) return;\n",
              "\n",
              "          const docLinkHtml = 'Like what you see? Visit the ' +\n",
              "            '<a target=\"_blank\" href=https://colab.research.google.com/notebooks/data_table.ipynb>data table notebook</a>'\n",
              "            + ' to learn more about interactive tables.';\n",
              "          element.innerHTML = '';\n",
              "          dataTable['output_type'] = 'display_data';\n",
              "          await google.colab.output.renderOutput(dataTable, element);\n",
              "          const docLink = document.createElement('div');\n",
              "          docLink.innerHTML = docLinkHtml;\n",
              "          element.appendChild(docLink);\n",
              "        }\n",
              "      </script>\n",
              "    </div>\n",
              "  </div>\n",
              "  "
            ]
          },
          "metadata": {},
          "execution_count": 84
        }
      ]
    },
    {
      "cell_type": "code",
      "source": [
        "# 2. 결론부에 'REGENCY TEA PLATE PINK'가 있는 규칙\n",
        "rules[rules.consequents.apply(lambda x:'REGENCY TEA PLATE PINK' in x)]"
      ],
      "metadata": {
        "colab": {
          "base_uri": "https://localhost:8080/",
          "height": 340
        },
        "id": "2_YrrEcBUmm2",
        "outputId": "3bf1faa5-f91d-4ae1-b69c-2af80461756a"
      },
      "execution_count": null,
      "outputs": [
        {
          "output_type": "execute_result",
          "data": {
            "text/plain": [
              "                                           antecedents  \\\n",
              "91                          (REGENCY TEA PLATE GREEN )   \n",
              "95                          (REGENCY TEA PLATE ROSES )   \n",
              "405  (REGENCY TEA PLATE GREEN , REGENCY TEA PLATE R...   \n",
              "407                         (REGENCY TEA PLATE GREEN )   \n",
              "\n",
              "                                           consequents  antecedent support  \\\n",
              "91                            (REGENCY TEA PLATE PINK)            0.018921   \n",
              "95                            (REGENCY TEA PLATE PINK)            0.022100   \n",
              "405                           (REGENCY TEA PLATE PINK)            0.015842   \n",
              "407  (REGENCY TEA PLATE PINK, REGENCY TEA PLATE ROS...            0.018921   \n",
              "\n",
              "     consequent support   support  confidence       lift  leverage  conviction  \n",
              "91             0.015147  0.013806    0.729659  48.171834  0.013520    3.643000  \n",
              "95             0.015147  0.013359    0.604494  39.908521  0.013024    2.490111  \n",
              "405            0.015147  0.012664    0.799373  52.774346  0.012424    4.908877  \n",
              "407            0.013359  0.012664    0.669291  50.099816  0.012411    2.983414  "
            ],
            "text/html": [
              "\n",
              "  <div id=\"df-8a7126cd-b0bc-4017-9637-43ecc7f4bd0d\">\n",
              "    <div class=\"colab-df-container\">\n",
              "      <div>\n",
              "<style scoped>\n",
              "    .dataframe tbody tr th:only-of-type {\n",
              "        vertical-align: middle;\n",
              "    }\n",
              "\n",
              "    .dataframe tbody tr th {\n",
              "        vertical-align: top;\n",
              "    }\n",
              "\n",
              "    .dataframe thead th {\n",
              "        text-align: right;\n",
              "    }\n",
              "</style>\n",
              "<table border=\"1\" class=\"dataframe\">\n",
              "  <thead>\n",
              "    <tr style=\"text-align: right;\">\n",
              "      <th></th>\n",
              "      <th>antecedents</th>\n",
              "      <th>consequents</th>\n",
              "      <th>antecedent support</th>\n",
              "      <th>consequent support</th>\n",
              "      <th>support</th>\n",
              "      <th>confidence</th>\n",
              "      <th>lift</th>\n",
              "      <th>leverage</th>\n",
              "      <th>conviction</th>\n",
              "    </tr>\n",
              "  </thead>\n",
              "  <tbody>\n",
              "    <tr>\n",
              "      <th>91</th>\n",
              "      <td>(REGENCY TEA PLATE GREEN )</td>\n",
              "      <td>(REGENCY TEA PLATE PINK)</td>\n",
              "      <td>0.018921</td>\n",
              "      <td>0.015147</td>\n",
              "      <td>0.013806</td>\n",
              "      <td>0.729659</td>\n",
              "      <td>48.171834</td>\n",
              "      <td>0.013520</td>\n",
              "      <td>3.643000</td>\n",
              "    </tr>\n",
              "    <tr>\n",
              "      <th>95</th>\n",
              "      <td>(REGENCY TEA PLATE ROSES )</td>\n",
              "      <td>(REGENCY TEA PLATE PINK)</td>\n",
              "      <td>0.022100</td>\n",
              "      <td>0.015147</td>\n",
              "      <td>0.013359</td>\n",
              "      <td>0.604494</td>\n",
              "      <td>39.908521</td>\n",
              "      <td>0.013024</td>\n",
              "      <td>2.490111</td>\n",
              "    </tr>\n",
              "    <tr>\n",
              "      <th>405</th>\n",
              "      <td>(REGENCY TEA PLATE GREEN , REGENCY TEA PLATE R...</td>\n",
              "      <td>(REGENCY TEA PLATE PINK)</td>\n",
              "      <td>0.015842</td>\n",
              "      <td>0.015147</td>\n",
              "      <td>0.012664</td>\n",
              "      <td>0.799373</td>\n",
              "      <td>52.774346</td>\n",
              "      <td>0.012424</td>\n",
              "      <td>4.908877</td>\n",
              "    </tr>\n",
              "    <tr>\n",
              "      <th>407</th>\n",
              "      <td>(REGENCY TEA PLATE GREEN )</td>\n",
              "      <td>(REGENCY TEA PLATE PINK, REGENCY TEA PLATE ROS...</td>\n",
              "      <td>0.018921</td>\n",
              "      <td>0.013359</td>\n",
              "      <td>0.012664</td>\n",
              "      <td>0.669291</td>\n",
              "      <td>50.099816</td>\n",
              "      <td>0.012411</td>\n",
              "      <td>2.983414</td>\n",
              "    </tr>\n",
              "  </tbody>\n",
              "</table>\n",
              "</div>\n",
              "      <button class=\"colab-df-convert\" onclick=\"convertToInteractive('df-8a7126cd-b0bc-4017-9637-43ecc7f4bd0d')\"\n",
              "              title=\"Convert this dataframe to an interactive table.\"\n",
              "              style=\"display:none;\">\n",
              "        \n",
              "  <svg xmlns=\"http://www.w3.org/2000/svg\" height=\"24px\"viewBox=\"0 0 24 24\"\n",
              "       width=\"24px\">\n",
              "    <path d=\"M0 0h24v24H0V0z\" fill=\"none\"/>\n",
              "    <path d=\"M18.56 5.44l.94 2.06.94-2.06 2.06-.94-2.06-.94-.94-2.06-.94 2.06-2.06.94zm-11 1L8.5 8.5l.94-2.06 2.06-.94-2.06-.94L8.5 2.5l-.94 2.06-2.06.94zm10 10l.94 2.06.94-2.06 2.06-.94-2.06-.94-.94-2.06-.94 2.06-2.06.94z\"/><path d=\"M17.41 7.96l-1.37-1.37c-.4-.4-.92-.59-1.43-.59-.52 0-1.04.2-1.43.59L10.3 9.45l-7.72 7.72c-.78.78-.78 2.05 0 2.83L4 21.41c.39.39.9.59 1.41.59.51 0 1.02-.2 1.41-.59l7.78-7.78 2.81-2.81c.8-.78.8-2.07 0-2.86zM5.41 20L4 18.59l7.72-7.72 1.47 1.35L5.41 20z\"/>\n",
              "  </svg>\n",
              "      </button>\n",
              "      \n",
              "  <style>\n",
              "    .colab-df-container {\n",
              "      display:flex;\n",
              "      flex-wrap:wrap;\n",
              "      gap: 12px;\n",
              "    }\n",
              "\n",
              "    .colab-df-convert {\n",
              "      background-color: #E8F0FE;\n",
              "      border: none;\n",
              "      border-radius: 50%;\n",
              "      cursor: pointer;\n",
              "      display: none;\n",
              "      fill: #1967D2;\n",
              "      height: 32px;\n",
              "      padding: 0 0 0 0;\n",
              "      width: 32px;\n",
              "    }\n",
              "\n",
              "    .colab-df-convert:hover {\n",
              "      background-color: #E2EBFA;\n",
              "      box-shadow: 0px 1px 2px rgba(60, 64, 67, 0.3), 0px 1px 3px 1px rgba(60, 64, 67, 0.15);\n",
              "      fill: #174EA6;\n",
              "    }\n",
              "\n",
              "    [theme=dark] .colab-df-convert {\n",
              "      background-color: #3B4455;\n",
              "      fill: #D2E3FC;\n",
              "    }\n",
              "\n",
              "    [theme=dark] .colab-df-convert:hover {\n",
              "      background-color: #434B5C;\n",
              "      box-shadow: 0px 1px 3px 1px rgba(0, 0, 0, 0.15);\n",
              "      filter: drop-shadow(0px 1px 2px rgba(0, 0, 0, 0.3));\n",
              "      fill: #FFFFFF;\n",
              "    }\n",
              "  </style>\n",
              "\n",
              "      <script>\n",
              "        const buttonEl =\n",
              "          document.querySelector('#df-8a7126cd-b0bc-4017-9637-43ecc7f4bd0d button.colab-df-convert');\n",
              "        buttonEl.style.display =\n",
              "          google.colab.kernel.accessAllowed ? 'block' : 'none';\n",
              "\n",
              "        async function convertToInteractive(key) {\n",
              "          const element = document.querySelector('#df-8a7126cd-b0bc-4017-9637-43ecc7f4bd0d');\n",
              "          const dataTable =\n",
              "            await google.colab.kernel.invokeFunction('convertToInteractive',\n",
              "                                                     [key], {});\n",
              "          if (!dataTable) return;\n",
              "\n",
              "          const docLinkHtml = 'Like what you see? Visit the ' +\n",
              "            '<a target=\"_blank\" href=https://colab.research.google.com/notebooks/data_table.ipynb>data table notebook</a>'\n",
              "            + ' to learn more about interactive tables.';\n",
              "          element.innerHTML = '';\n",
              "          dataTable['output_type'] = 'display_data';\n",
              "          await google.colab.output.renderOutput(dataTable, element);\n",
              "          const docLink = document.createElement('div');\n",
              "          docLink.innerHTML = docLinkHtml;\n",
              "          element.appendChild(docLink);\n",
              "        }\n",
              "      </script>\n",
              "    </div>\n",
              "  </div>\n",
              "  "
            ]
          },
          "metadata": {},
          "execution_count": 88
        }
      ]
    }
  ]
}